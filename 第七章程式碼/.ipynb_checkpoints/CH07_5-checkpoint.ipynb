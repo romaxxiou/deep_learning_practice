{
 "cells": [
  {
   "cell_type": "code",
   "execution_count": 1,
   "metadata": {},
   "outputs": [
    {
     "name": "stdout",
     "output_type": "stream",
     "text": [
      "train data = 60000\n",
      "test data = 10000\n",
      "train data dim = (60000, 28, 28)\n",
      "test data dim = (10000, 28, 28)\n"
     ]
    }
   ],
   "source": [
    "from tensorflow.keras.datasets import mnist\n",
    "(train_Data, train_Label),(test_Data, test_Label) = mnist.load_data()\n",
    "# 查看 mnist 資料集大小\n",
    "print('train data =',len(train_Data))\n",
    "print('test data =',len(test_Data))\n",
    "# 查看 mnist 資料集維度\n",
    "print('train data dim =',train_Data.shape)\n",
    "print('test data dim =',test_Data.shape)"
   ]
  },
  {
   "cell_type": "code",
   "execution_count": 2,
   "metadata": {},
   "outputs": [
    {
     "data": {
      "image/png": "[encoded data removed]",
      "text/plain": [
       "<Figure size 288x288 with 1 Axes>"
      ]
     },
     "metadata": {
      "needs_background": "light"
     },
     "output_type": "display_data"
    }
   ],
   "source": [
    "import matplotlib.pyplot as plt\n",
    "\n",
    "def plot_image(data):\n",
    "    fig = plt.gcf()\n",
    "    fig.set_size_inches(4,4)\n",
    "    plt.imshow(data, cmap = 'binary')\n",
    "    plt.show()\n",
    "\n",
    "plot_image(train_Data[0])"
   ]
  },
  {
   "cell_type": "code",
   "execution_count": 3,
   "metadata": {},
   "outputs": [
    {
     "name": "stdout",
     "output_type": "stream",
     "text": [
      "train_Label[0] =  5\n"
     ]
    }
   ],
   "source": [
    "print('train_Label[0] = ',train_Label[0])"
   ]
  },
  {
   "cell_type": "code",
   "execution_count": 4,
   "metadata": {
    "scrolled": false
   },
   "outputs": [],
   "source": [
    "import tensorflow as tf\n",
    "learning_rate = 0.01   # 學習率\n",
    "training_epoch = 50   # 訓練次數\n",
    "batch_size = 500      # 每次訓練大小\n",
    "# mnist 資料的前置處理\n",
    "# 將原本是 28x28 的影像大小攤平成 784, 未來要當作輸入特徵\n",
    "train_Data_R, test_Data_R = train_Data.reshape([-1,784]).astype('float32')\\\n",
    "                           ,test_Data.reshape([-1,784]).astype('float32')\n",
    "# 資料正規化\n",
    "train_Data_R, test_Data_R = train_Data_R/255., test_Data_R/255.\n",
    "# 將資料打散並分批\n",
    "train_Data_M = tf.data.Dataset.from_tensor_slices((train_Data_R,train_Label))\n",
    "train_Data_M = train_Data_M.shuffle(5000).batch(batch_size)"
   ]
  },
  {
   "cell_type": "code",
   "execution_count": 5,
   "metadata": {},
   "outputs": [],
   "source": [
    "# 最後的 Dense(10) 且 activation 用 softmax\n",
    "# 代表最後 output 為 10 個 class （0~9）的機率\n",
    "model = tf.keras.models.Sequential([\n",
    "    tf.keras.layers.Dense(256, activation='relu'),\n",
    "    tf.keras.layers.Dense(128, activation='relu'),\n",
    "    tf.keras.layers.Dense(64, activation='relu'),\n",
    "    tf.keras.layers.Dense(10, activation='softmax')\n",
    "])"
   ]
  },
  {
   "cell_type": "code",
   "execution_count": 6,
   "metadata": {},
   "outputs": [],
   "source": [
    "# 隨機梯度下降優化器。\n",
    "optimizer = tf.keras.optimizers.SGD(learning_rate)\n",
    "# 定義損失計算\n",
    "def cross_entropy_loss(x, y):\n",
    "    # 選擇交叉熵當損失函數.\n",
    "    scce = tf.keras.losses.SparseCategoricalCrossentropy()\n",
    "    loss = scce(y,x)\n",
    "    # 計算平均損失\n",
    "    return tf.reduce_mean(loss)"
   ]
  },
  {
   "cell_type": "code",
   "execution_count": 7,
   "metadata": {},
   "outputs": [],
   "source": [
    "# 計算準確率\n",
    "def accuracy(y_pred, y_true):\n",
    "    # tf.argmax(y_pred, 1) 返回 y_pred 維度為 1 的最大索引跟正確值做比較\n",
    "    correct_prediction = tf.equal(tf.argmax(y_pred, 1),\n",
    "                                  tf.cast(y_true, tf.int64))\n",
    "    # 計算平均正確率\n",
    "    return tf.reduce_mean(tf.cast(correct_prediction,\n",
    "                                  tf.float32), axis=-1)"
   ]
  },
  {
   "cell_type": "code",
   "execution_count": 8,
   "metadata": {
    "scrolled": false
   },
   "outputs": [
    {
     "name": "stdout",
     "output_type": "stream",
     "text": [
      "Testloss: 1.944753, Testaccuracy: 0.479300\n",
      "Testloss: 1.291372, Testaccuracy: 0.732800\n",
      "Testloss: 0.774454, Testaccuracy: 0.830700\n",
      "Testloss: 0.566454, Testaccuracy: 0.859400\n",
      "Testloss: 0.472466, Testaccuracy: 0.875200\n",
      "Testloss: 0.418621, Testaccuracy: 0.887100\n",
      "Testloss: 0.384086, Testaccuracy: 0.894000\n",
      "Testloss: 0.360605, Testaccuracy: 0.898500\n",
      "Testloss: 0.341986, Testaccuracy: 0.903600\n",
      "Testloss: 0.327379, Testaccuracy: 0.906800\n",
      "Testloss: 0.315594, Testaccuracy: 0.909400\n",
      "Testloss: 0.306035, Testaccuracy: 0.911500\n",
      "Testloss: 0.295875, Testaccuracy: 0.915700\n",
      "Testloss: 0.288676, Testaccuracy: 0.917900\n",
      "Testloss: 0.280138, Testaccuracy: 0.920100\n",
      "Testloss: 0.274539, Testaccuracy: 0.921700\n",
      "Testloss: 0.268391, Testaccuracy: 0.923200\n",
      "Testloss: 0.262046, Testaccuracy: 0.925400\n",
      "Testloss: 0.256802, Testaccuracy: 0.927900\n",
      "Testloss: 0.251872, Testaccuracy: 0.929600\n",
      "Testloss: 0.247905, Testaccuracy: 0.930200\n",
      "Testloss: 0.243304, Testaccuracy: 0.931400\n",
      "Testloss: 0.239088, Testaccuracy: 0.932600\n",
      "Testloss: 0.234810, Testaccuracy: 0.933500\n",
      "Testloss: 0.231116, Testaccuracy: 0.934900\n",
      "Testloss: 0.226339, Testaccuracy: 0.935600\n",
      "Testloss: 0.223142, Testaccuracy: 0.936200\n",
      "Testloss: 0.219204, Testaccuracy: 0.937300\n",
      "Testloss: 0.216845, Testaccuracy: 0.938100\n",
      "Testloss: 0.213414, Testaccuracy: 0.939300\n",
      "Testloss: 0.209441, Testaccuracy: 0.939700\n",
      "Testloss: 0.206333, Testaccuracy: 0.940700\n",
      "Testloss: 0.203914, Testaccuracy: 0.941100\n",
      "Testloss: 0.201068, Testaccuracy: 0.941400\n",
      "Testloss: 0.197793, Testaccuracy: 0.942700\n",
      "Testloss: 0.195311, Testaccuracy: 0.942900\n",
      "Testloss: 0.192853, Testaccuracy: 0.943600\n",
      "Testloss: 0.189990, Testaccuracy: 0.944800\n",
      "Testloss: 0.188352, Testaccuracy: 0.945100\n",
      "Testloss: 0.185574, Testaccuracy: 0.945700\n",
      "Testloss: 0.182905, Testaccuracy: 0.946900\n",
      "Testloss: 0.180818, Testaccuracy: 0.945700\n",
      "Testloss: 0.178501, Testaccuracy: 0.947700\n",
      "Testloss: 0.176770, Testaccuracy: 0.949200\n",
      "Testloss: 0.173796, Testaccuracy: 0.948700\n",
      "Testloss: 0.171681, Testaccuracy: 0.949200\n",
      "Testloss: 0.170803, Testaccuracy: 0.949700\n",
      "Testloss: 0.168146, Testaccuracy: 0.950600\n",
      "Testloss: 0.166025, Testaccuracy: 0.951000\n",
      "Testloss: 0.164712, Testaccuracy: 0.951200\n"
     ]
    }
   ],
   "source": [
    "for epoch in range(training_epoch):\n",
    "    for step, (batch_data, batch_label) in enumerate(train_Data_M):\n",
    "        with tf.GradientTape() as tape:\n",
    "            pre_data = model(batch_data)\n",
    "            # Compute loss.\n",
    "            loss = cross_entropy_loss(pre_data, batch_label)\n",
    "            acc = accuracy(pre_data, batch_label)\n",
    "            trainable_variables = model.trainable_variables\n",
    "            # 計算梯度\n",
    "            gradients = tape.gradient(loss, trainable_variables)\n",
    "        optimizer.apply_gradients(zip(gradients, trainable_variables))\n",
    "\n",
    "    # 每訓練完一個 EPOCH, 就拿測試集來測試準確率\n",
    "    Testprec = model(test_Data_R)\n",
    "    Testloss = cross_entropy_loss(Testprec, test_Label)\n",
    "    Testacc = accuracy(Testprec, test_Label)\n",
    "    print(\"Testloss: %f, Testaccuracy: %f\" % (Testloss, Testacc))"
   ]
  },
  {
   "cell_type": "code",
   "execution_count": null,
   "metadata": {},
   "outputs": [],
   "source": []
  }
 ],
 "metadata": {
  "kernelspec": {
   "display_name": "Python [conda env:Tensorflow2_GPU]",
   "language": "python",
   "name": "conda-env-Tensorflow2_GPU-py"
  },
  "language_info": {
   "codemirror_mode": {
    "name": "ipython",
    "version": 3
   },
   "file_extension": ".py",
   "mimetype": "text/x-python",
   "name": "python",
   "nbconvert_exporter": "python",
   "pygments_lexer": "ipython3",
   "version": "3.8.5"
  }
 },
 "nbformat": 4,
 "nbformat_minor": 4
}
