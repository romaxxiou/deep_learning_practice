{
 "cells": [
  {
   "cell_type": "code",
   "execution_count": 2,
   "metadata": {},
   "outputs": [
    {
     "name": "stdout",
     "output_type": "stream",
     "text": [
      "tf.Tensor([0.05129344 2.3025851 ], shape=(2,), dtype=float32)\n",
      "tf.Tensor([0.05129331 2.3025851 ], shape=(2,), dtype=float32)\n"
     ]
    }
   ],
   "source": [
    "import tensorflow as tf\n",
    "# 整數編碼\n",
    "y_true1 = [1, 2]\n",
    "# One_hot 編碼\n",
    "y_true2 = [[0,1,0],[0,0,1]]\n",
    "# 機率分布\n",
    "y_pred = [[0.05, 0.95, 0], [0.1, 0.8, 0.1]]\n",
    "# sparse_categorical_crossentropy 用在整數編碼\n",
    "loss1 = tf.keras.losses.sparse_categorical_crossentropy(y_true1, y_pred)\n",
    "# categorical_crossentropy 用在One_hot 編碼\n",
    "loss2 = tf.keras.losses.categorical_crossentropy(y_true2, y_pred)\n",
    "print(loss1)\n",
    "print(loss2)"
   ]
  },
  {
   "cell_type": "code",
   "execution_count": null,
   "metadata": {},
   "outputs": [],
   "source": []
  }
 ],
 "metadata": {
  "kernelspec": {
   "display_name": "Python [conda env:Tensorflow2_GPU]",
   "language": "python",
   "name": "conda-env-Tensorflow2_GPU-py"
  },
  "language_info": {
   "codemirror_mode": {
    "name": "ipython",
    "version": 3
   },
   "file_extension": ".py",
   "mimetype": "text/x-python",
   "name": "python",
   "nbconvert_exporter": "python",
   "pygments_lexer": "ipython3",
   "version": "3.8.5"
  }
 },
 "nbformat": 4,
 "nbformat_minor": 4
}
