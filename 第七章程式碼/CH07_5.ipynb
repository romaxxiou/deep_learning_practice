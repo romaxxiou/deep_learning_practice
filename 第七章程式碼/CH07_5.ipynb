{
 "cells": [
  {
   "cell_type": "code",
   "execution_count": 1,
   "metadata": {},
   "outputs": [
    {
     "name": "stdout",
     "output_type": "stream",
     "text": [
      "train data = 60000\n",
      "test data = 10000\n",
      "train data dim = (60000, 28, 28)\n",
      "test data dim = (10000, 28, 28)\n"
     ]
    }
   ],
   "source": [
    "from tensorflow.keras.datasets import mnist\n",
    "(train_Data, train_Label),(test_Data, test_Label) = mnist.load_data()\n",
    "# 查看 mnist 資料集大小\n",
    "print('train data =',len(train_Data))\n",
    "print('test data =',len(test_Data))\n",
    "# 查看 mnist 資料集維度\n",
    "print('train data dim =',train_Data.shape)\n",
    "print('test data dim =',test_Data.shape)"
   ]
  },
  {
   "cell_type": "code",
   "execution_count": 2,
   "metadata": {},
   "outputs": [
    {
     "data": {
      "image/png": "[encoded data removed]",
      "text/plain": [
       "<Figure size 400x400 with 1 Axes>"
      ]
     },
     "metadata": {},
     "output_type": "display_data"
    }
   ],
   "source": [
    "import matplotlib.pyplot as plt\n",
    "\n",
    "def plot_image(data):\n",
    "    fig = plt.gcf()\n",
    "    fig.set_size_inches(4,4)\n",
    "    plt.imshow(data, cmap = 'binary')\n",
    "    plt.show()\n",
    "\n",
    "plot_image(train_Data[0])"
   ]
  },
  {
   "cell_type": "code",
   "execution_count": 3,
   "metadata": {},
   "outputs": [
    {
     "name": "stdout",
     "output_type": "stream",
     "text": [
      "train_Label[0] =  5\n"
     ]
    }
   ],
   "source": [
    "print('train_Label[0] = ',train_Label[0])"
   ]
  },
  {
   "cell_type": "code",
   "execution_count": null,
   "metadata": {},
   "outputs": [],
   "source": []
  },
  {
   "cell_type": "code",
   "execution_count": null,
   "metadata": {},
   "outputs": [],
   "source": []
  },
  {
   "cell_type": "code",
   "execution_count": 4,
   "metadata": {},
   "outputs": [
    {
     "name": "stdout",
     "output_type": "stream",
     "text": [
      "Metal device set to: Apple M1\n"
     ]
    },
    {
     "name": "stderr",
     "output_type": "stream",
     "text": [
      "2022-10-21 11:33:30.577011: I tensorflow/core/common_runtime/pluggable_device/pluggable_device_factory.cc:306] Could not identify NUMA node of platform GPU ID 0, defaulting to 0. Your kernel may not have been built with NUMA support.\n",
      "2022-10-21 11:33:30.577150: I tensorflow/core/common_runtime/pluggable_device/pluggable_device_factory.cc:272] Created TensorFlow device (/job:localhost/replica:0/task:0/device:GPU:0 with 0 MB memory) -> physical PluggableDevice (device: 0, name: METAL, pci bus id: <undefined>)\n"
     ]
    }
   ],
   "source": [
    "import tensorflow as tf\n",
    "learning_rate = 0.01   # 學習率\n",
    "training_epoch = 50   # 訓練次數\n",
    "batch_size = 500      # 每次訓練大小\n",
    "# mnist 資料的前置處理\n",
    "# 將原本是 28x28 的影像大小攤平成 784, 未來要當作輸入特徵\n",
    "train_Data_R, test_Data_R = train_Data.reshape([-1,784]).astype('float32')\\\n",
    "                           ,test_Data.reshape([-1,784]).astype('float32')\n",
    "# 資料正規化\n",
    "train_Data_R, test_Data_R = train_Data_R/255., test_Data_R/255.\n",
    "# 將資料打散並分批\n",
    "train_Data_M = tf.data.Dataset.from_tensor_slices((train_Data_R,train_Label))\n",
    "train_Data_M = train_Data_M.shuffle(5000).batch(batch_size)"
   ]
  },
  {
   "cell_type": "code",
   "execution_count": 5,
   "metadata": {},
   "outputs": [],
   "source": [
    "# 最後的 Dense(10) 且 activation 用 softmax\n",
    "# 代表最後 output 為 10 個 class （0~9）的機率\n",
    "model = tf.keras.models.Sequential([\n",
    "    tf.keras.layers.Dense(256, activation='relu'),\n",
    "    tf.keras.layers.Dense(128, activation='relu'),\n",
    "    tf.keras.layers.Dense(64, activation='relu'),\n",
    "    tf.keras.layers.Dense(10, activation='softmax')\n",
    "])"
   ]
  },
  {
   "cell_type": "code",
   "execution_count": 6,
   "metadata": {},
   "outputs": [],
   "source": [
    "# 隨機梯度下降優化器。\n",
    "optimizer = tf.keras.optimizers.SGD(learning_rate)\n",
    "# 定義損失計算\n",
    "def cross_entropy_loss(x, y):#(預測值,真實值)\n",
    "    # 選擇交叉熵當損失函數.\n",
    "    scce = tf.keras.losses.SparseCategoricalCrossentropy()\n",
    "    loss = scce(y,x)\n",
    "    # 計算平均損失\n",
    "    return tf.reduce_mean(loss)"
   ]
  },
  {
   "cell_type": "code",
   "execution_count": 7,
   "metadata": {},
   "outputs": [],
   "source": [
    "# 計算準確率\n",
    "def accuracy(y_pred, y_true):\n",
    "    # tf.argmax(y_pred, 1) 返回 y_pred 維度為 1 的最大索引跟正確值做比較\n",
    "    correct_prediction = tf.equal(tf.argmax(y_pred, 1),\n",
    "                                  tf.cast(y_true, tf.int64))\n",
    "    # 計算平均正確率\n",
    "    return tf.reduce_mean(tf.cast(correct_prediction,\n",
    "                                  tf.float32), axis=-1)"
   ]
  },
  {
   "cell_type": "code",
   "execution_count": 8,
   "metadata": {
    "scrolled": true,
    "tags": []
   },
   "outputs": [
    {
     "name": "stdout",
     "output_type": "stream",
     "text": [
      "Testloss: 0.273553, Testaccuracy: 0.919800\n",
      "Testloss: 0.210568, Testaccuracy: 0.937900\n",
      "Testloss: 0.167514, Testaccuracy: 0.949700\n",
      "Testloss: 0.142942, Testaccuracy: 0.956500\n",
      "Testloss: 0.129167, Testaccuracy: 0.962200\n",
      "Testloss: 0.114728, Testaccuracy: 0.964100\n",
      "Testloss: 0.106647, Testaccuracy: 0.966800\n",
      "Testloss: 0.099207, Testaccuracy: 0.967900\n",
      "Testloss: 0.094247, Testaccuracy: 0.971100\n",
      "Testloss: 0.090399, Testaccuracy: 0.972000\n",
      "Testloss: 0.084677, Testaccuracy: 0.973600\n",
      "Testloss: 0.083980, Testaccuracy: 0.973700\n",
      "Testloss: 0.082701, Testaccuracy: 0.974700\n",
      "Testloss: 0.078760, Testaccuracy: 0.976200\n",
      "Testloss: 0.079787, Testaccuracy: 0.976500\n",
      "Testloss: 0.078982, Testaccuracy: 0.977300\n",
      "Testloss: 0.080655, Testaccuracy: 0.976200\n",
      "Testloss: 0.073649, Testaccuracy: 0.978200\n",
      "Testloss: 0.074666, Testaccuracy: 0.977000\n",
      "Testloss: 0.072285, Testaccuracy: 0.978200\n",
      "Testloss: 0.072504, Testaccuracy: 0.978500\n",
      "Testloss: 0.072912, Testaccuracy: 0.977800\n",
      "Testloss: 0.074935, Testaccuracy: 0.978100\n",
      "Testloss: 0.076746, Testaccuracy: 0.978000\n",
      "Testloss: 0.075655, Testaccuracy: 0.978700\n",
      "Testloss: 0.074090, Testaccuracy: 0.979800\n",
      "Testloss: 0.077822, Testaccuracy: 0.978500\n",
      "Testloss: 0.076064, Testaccuracy: 0.978200\n",
      "Testloss: 0.077151, Testaccuracy: 0.979300\n",
      "Testloss: 0.075525, Testaccuracy: 0.978600\n",
      "Testloss: 0.073724, Testaccuracy: 0.979600\n",
      "Testloss: 0.077168, Testaccuracy: 0.979700\n",
      "Testloss: 0.076542, Testaccuracy: 0.979400\n",
      "Testloss: 0.076959, Testaccuracy: 0.979900\n",
      "Testloss: 0.077538, Testaccuracy: 0.979600\n",
      "Testloss: 0.080667, Testaccuracy: 0.978600\n",
      "Testloss: 0.078248, Testaccuracy: 0.978900\n",
      "Testloss: 0.078802, Testaccuracy: 0.979500\n",
      "Testloss: 0.078078, Testaccuracy: 0.979400\n",
      "Testloss: 0.079000, Testaccuracy: 0.979700\n",
      "Testloss: 0.080708, Testaccuracy: 0.979500\n",
      "Testloss: 0.081284, Testaccuracy: 0.979600\n",
      "Testloss: 0.081465, Testaccuracy: 0.979800\n",
      "Testloss: 0.079858, Testaccuracy: 0.979900\n",
      "Testloss: 0.082703, Testaccuracy: 0.979700\n",
      "Testloss: 0.082143, Testaccuracy: 0.980000\n",
      "Testloss: 0.082100, Testaccuracy: 0.980000\n",
      "Testloss: 0.082050, Testaccuracy: 0.979300\n",
      "Testloss: 0.082674, Testaccuracy: 0.979500\n",
      "Testloss: 0.082334, Testaccuracy: 0.979600\n"
     ]
    }
   ],
   "source": [
    "for epoch in range(training_epoch):\n",
    "    for step, (batch_data, batch_label) in enumerate(train_Data_M):\n",
    "        with tf.GradientTape() as tape:\n",
    "            pre_data = model(batch_data)\n",
    "            # Compute loss.\n",
    "            loss = cross_entropy_loss(pre_data, batch_label)\n",
    "            acc = accuracy(pre_data, batch_label)\n",
    "            \n",
    "            trainable_variables = model.trainable_variables\n",
    "            # 計算梯度\n",
    "            gradients = tape.gradient(loss, trainable_variables)\n",
    "        optimizer.apply_gradients(zip(gradients, trainable_variables))\n",
    "\n",
    "    # 每訓練完一個 EPOCH, 就拿測試集來測試準確率\n",
    "    Testprec = model(test_Data_R)\n",
    "    Testloss = cross_entropy_loss(Testprec, test_Label)\n",
    "    Testacc = accuracy(Testprec, test_Label)\n",
    "    print(\"Testloss: %f, Testaccuracy: %f\" % (Testloss, Testacc))"
   ]
  },
  {
   "cell_type": "code",
   "execution_count": null,
   "metadata": {},
   "outputs": [],
   "source": []
  }
 ],
 "metadata": {
  "kernelspec": {
   "display_name": "Python 3 (ipykernel)",
   "language": "python",
   "name": "python3"
  },
  "language_info": {
   "codemirror_mode": {
    "name": "ipython",
    "version": 3
   },
   "file_extension": ".py",
   "mimetype": "text/x-python",
   "name": "python",
   "nbconvert_exporter": "python",
   "pygments_lexer": "ipython3",
   "version": "3.9.13"
  }
 },
 "nbformat": 4,
 "nbformat_minor": 4
}
