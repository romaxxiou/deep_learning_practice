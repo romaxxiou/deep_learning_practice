{
 "cells": [
  {
   "cell_type": "code",
   "execution_count": 2,
   "metadata": {},
   "outputs": [
    {
     "ename": "ModuleNotFoundError",
     "evalue": "No module named 'matplotlib'",
     "output_type": "error",
     "traceback": [
      "\u001b[0;31m---------------------------------------------------------------------------\u001b[0m",
      "\u001b[0;31mModuleNotFoundError\u001b[0m                       Traceback (most recent call last)",
      "Cell \u001b[0;32mIn [2], line 2\u001b[0m\n\u001b[1;32m      1\u001b[0m \u001b[38;5;28;01mimport\u001b[39;00m \u001b[38;5;21;01mtensorflow\u001b[39;00m \u001b[38;5;28;01mas\u001b[39;00m \u001b[38;5;21;01mtf\u001b[39;00m\n\u001b[0;32m----> 2\u001b[0m \u001b[38;5;28;01mimport\u001b[39;00m \u001b[38;5;21;01mmatplotlib\u001b[39;00m\u001b[38;5;21;01m.\u001b[39;00m\u001b[38;5;21;01mpyplot\u001b[39;00m \u001b[38;5;28;01mas\u001b[39;00m \u001b[38;5;21;01mplt\u001b[39;00m\n\u001b[1;32m      3\u001b[0m \u001b[38;5;28;01mimport\u001b[39;00m \u001b[38;5;21;01mnumpy\u001b[39;00m \u001b[38;5;28;01mas\u001b[39;00m \u001b[38;5;21;01mnp\u001b[39;00m\n\u001b[1;32m      5\u001b[0m \u001b[38;5;66;03m# 設定超參數(Hyperparameters)值\u001b[39;00m\n",
      "\u001b[0;31mModuleNotFoundError\u001b[0m: No module named 'matplotlib'"
     ]
    }
   ],
   "source": [
    "import tensorflow as tf\n",
    "import matplotlib.pyplot as plt\n",
    "import numpy as np\n",
    "\n",
    "# 設定超參數(Hyperparameters)值\n",
    "x_init = -10    # 起始權重\n",
    "epochs = 10    # 執行週期數 \n",
    "lr = 0.3        # 學習率 \n",
    "\n",
    "# 定義損失函數  y = x^2 - 10x +1\n",
    "def Loss(x): \n",
    "    y = x ** 2-10*x+1    \n",
    "    return  y  \n",
    "\n",
    "def dLoss(x_value): \n",
    "    # 宣告 TensorFlow 變數(Variable)\n",
    "    x = tf.Variable(x_value, dtype=tf.float32) \n",
    "    with tf.GradientTape() as g:   #  自動微分\n",
    "        y = Loss(x)                \n",
    "    dy_dx = g.gradient(y, x)       #  取得梯度\n",
    "    return dy_dx.numpy()           #  轉成 NumPy array\n",
    "\n",
    "# 梯度下降法 \n",
    "def GD(x_init, df, epochs, lr):    \n",
    "    xs = np.zeros(epochs+1)    \n",
    "    x = x_init    \n",
    "    xs[0] = x    \n",
    "    for i in range(epochs):         \n",
    "        dx = df(x)        \n",
    "        # 更新 x_new = x — learning_rate * gradient        \n",
    "        x += - dx * lr         \n",
    "        xs[i+1] = x    \n",
    "    return xs\n",
    "\n",
    "# 傳入 dLoss \n",
    "w = GD(x_init, dLoss , epochs, lr=lr) \n",
    "print (np.around(w, 2))\n",
    "\n",
    "t = np.arange(-10.0, 20.0, 0.001)\n",
    "plt.plot(t, Loss(t), c='b')\n",
    "plt.plot(w, Loss(w), c='r', marker ='o', markersize=5)    \n",
    "\n",
    "# 設定中文字型\n",
    "plt.rcParams['font.sans-serif'] = ['Microsoft JhengHei'] # 正黑體 \n",
    "plt.rcParams['axes.unicode_minus'] = False # 矯正負號\n",
    "plt.title('梯度下降法', fontsize=18)\n",
    "plt.xlabel('X 參數值', fontsize=18)\n",
    "plt.ylabel('損失函數值', fontsize=18)\n",
    "plt.show()"
   ]
  },
  {
   "cell_type": "code",
   "execution_count": null,
   "metadata": {},
   "outputs": [],
   "source": []
  }
 ],
 "metadata": {
  "kernelspec": {
   "display_name": "Python 3 (ipykernel)",
   "language": "python",
   "name": "python3"
  },
  "language_info": {
   "codemirror_mode": {
    "name": "ipython",
    "version": 3
   },
   "file_extension": ".py",
   "mimetype": "text/x-python",
   "name": "python",
   "nbconvert_exporter": "python",
   "pygments_lexer": "ipython3",
   "version": "3.8.13"
  }
 },
 "nbformat": 4,
 "nbformat_minor": 4
}
