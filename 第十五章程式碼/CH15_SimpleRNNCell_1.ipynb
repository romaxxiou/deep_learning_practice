{
 "cells": [
  {
   "cell_type": "code",
   "execution_count": 1,
   "metadata": {},
   "outputs": [
    {
     "name": "stdout",
     "output_type": "stream",
     "text": [
      "[<tf.Variable 'kernel:0' shape=(5, 3) dtype=float32, numpy=\n",
      "array([[-0.0497179 ,  0.20367986,  0.08066046],\n",
      "       [-0.712463  , -0.23394972, -0.6922244 ],\n",
      "       [ 0.5361859 , -0.37739122, -0.18161553],\n",
      "       [ 0.07181525, -0.6429118 , -0.407479  ],\n",
      "       [-0.35503787,  0.10787201,  0.71391183]], dtype=float32)>, <tf.Variable 'recurrent_kernel:0' shape=(3, 3) dtype=float32, numpy=\n",
      "array([[ 0.71164715, -0.42202136,  0.56165504],\n",
      "       [ 0.5799905 , -0.09821962, -0.80868036],\n",
      "       [-0.39644593, -0.90124965, -0.17487063]], dtype=float32)>, <tf.Variable 'bias:0' shape=(3,) dtype=float32, numpy=array([0., 0., 0.], dtype=float32)>]\n"
     ]
    }
   ],
   "source": [
    "from tensorflow.keras import layers\n",
    "hidden_dim = 3  # 隱藏層維度\n",
    "SimpleRNNCell = layers.SimpleRNNCell(hidden_dim)\n",
    "SimpleRNNCell.build(input_shape=(2,4,5))\n",
    "# 查看 SimpleRNNCell 內部可訓練的參數\n",
    "print(SimpleRNNCell.trainable_variables)"
   ]
  },
  {
   "cell_type": "code",
   "execution_count": null,
   "metadata": {},
   "outputs": [],
   "source": []
  }
 ],
 "metadata": {
  "kernelspec": {
   "display_name": "Python [conda env:pai] *",
   "language": "python",
   "name": "conda-env-pai-py"
  },
  "language_info": {
   "codemirror_mode": {
    "name": "ipython",
    "version": 3
   },
   "file_extension": ".py",
   "mimetype": "text/x-python",
   "name": "python",
   "nbconvert_exporter": "python",
   "pygments_lexer": "ipython3",
   "version": "3.8.13"
  }
 },
 "nbformat": 4,
 "nbformat_minor": 4
}
