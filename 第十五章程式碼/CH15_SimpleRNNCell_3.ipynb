{
 "cells": [
  {
   "cell_type": "code",
   "execution_count": null,
   "metadata": {},
   "outputs": [],
   "source": [
    "import tensorflow as tf\n",
    "import tensorflow.keras as keras\n",
    "\n",
    "batch_size = 5\n",
    "time_step = 10\n",
    "embedding_dim = 20\n",
    "# 要輸入的資料 (5個句子, 每個句子10個單詞)\n",
    "data = tf.random.normal(shape=[batch_size,time_step,embedding_dim])\n",
    "hidden_dim = 32  # 隱藏層維度\n",
    "#  設定 h0 一開始的值 (設定初始化狀態向量)\n",
    "h0 = tf.random.normal(shape=[batch_size,hidden_dim])\n",
    "# 建立隱藏層維度為 32 的 SimpleRNNCell\n",
    "simpleRNNCell = keras.layers.SimpleRNNCell(hidden_dim)\n",
    "h = h0\n",
    "out = 0\n",
    "# 完成一個完整序列的前向計算\n",
    "for xt in tf.unstack(data, axis=1):\n",
    "    out, h = simpleRNNCell(xt,h)\n",
    "# 最終的輸出可以集合每個時間步的輸出, 也可以取最後的時間步的結果\n",
    "out = out"
   ]
  },
  {
   "cell_type": "code",
   "execution_count": null,
   "metadata": {},
   "outputs": [],
   "source": []
  }
 ],
 "metadata": {
  "kernelspec": {
   "display_name": "Python [conda env:pai] *",
   "language": "python",
   "name": "conda-env-pai-py"
  },
  "language_info": {
   "codemirror_mode": {
    "name": "ipython",
    "version": 3
   },
   "file_extension": ".py",
   "mimetype": "text/x-python",
   "name": "python",
   "nbconvert_exporter": "python",
   "pygments_lexer": "ipython3",
   "version": "3.8.13"
  }
 },
 "nbformat": 4,
 "nbformat_minor": 4
}
