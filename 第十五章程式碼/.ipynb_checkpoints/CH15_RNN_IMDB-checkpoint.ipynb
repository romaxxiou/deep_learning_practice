{
 "cells": [
  {
   "cell_type": "code",
   "execution_count": 3,
   "metadata": {
    "scrolled": true
   },
   "outputs": [
    {
     "name": "stdout",
     "output_type": "stream",
     "text": [
      "25000\n",
      "25000\n"
     ]
    }
   ],
   "source": [
    "import tensorflow as tf\n",
    "from tensorflow.keras.datasets import imdb\n",
    "from tensorflow.keras.preprocessing import sequence\n",
    "\n",
    "max_words = 100\n",
    "batch_sizes = 128\n",
    "# 載入 imdb 資料集\n",
    "(train_data, train_labels), (test_data, test_labels) = \\\n",
    "    imdb.load_data(num_words=10000)\n",
    "print(len(train_data))  # 印出訓練集的筆數\n",
    "print(len(test_data))   # 印出測試集的筆數\n",
    "# 讓所有的影評資料保持在 100個字\n",
    "train_data_new = sequence.pad_sequences(train_data,maxlen=max_words)\n",
    "test_data_new = sequence.pad_sequences(test_data,maxlen=max_words)\n",
    "db_train = tf.data.Dataset.from_tensor_slices((train_data_new,train_labels))\n",
    "# 參數 drop_remainder = true 代表當最後一批少於 batch_size元素的情况下就刪除\n",
    "# 將訓練資料打散\n",
    "db_train = db_train.shuffle(1000).batch(batch_sizes,drop_remainder=True)\n",
    "db_test = tf.data.Dataset.from_tensor_slices((test_data_new,train_labels))\n",
    "db_test = db_test.batch(batch_sizes,drop_remainder=True)"
   ]
  },
  {
   "cell_type": "code",
   "execution_count": 4,
   "metadata": {},
   "outputs": [
    {
     "name": "stdout",
     "output_type": "stream",
     "text": [
      "Model: \"sequential\"\n",
      "_________________________________________________________________\n",
      "Layer (type)                 Output Shape              Param #   \n",
      "=================================================================\n",
      "embedding (Embedding)        (None, 100, 120)          1200000   \n",
      "_________________________________________________________________\n",
      "simple_rnn (SimpleRNN)       (None, 100, 64)           11840     \n",
      "_________________________________________________________________\n",
      "simple_rnn_1 (SimpleRNN)     (None, 64)                8256      \n",
      "_________________________________________________________________\n",
      "dense (Dense)                (None, 1)                 65        \n",
      "=================================================================\n",
      "Total params: 1,220,161\n",
      "Trainable params: 1,220,161\n",
      "Non-trainable params: 0\n",
      "_________________________________________________________________\n",
      "None\n"
     ]
    }
   ],
   "source": [
    "from tensorflow.keras.models import Sequential\n",
    "from tensorflow.keras import layers\n",
    "\n",
    "vocab_size = 10000\n",
    "model = Sequential()\n",
    "model.add(layers.Embedding( vocab_size,\n",
    "                            output_dim=120,\n",
    "                            input_length= max_words))\n",
    "# 除了最上面那一層之外, 其他層的輸出都必須做為下一層的輸入\n",
    "model.add(layers.SimpleRNN(units=64,return_sequences=True,\n",
    "                           dropout=0.25))\n",
    "model.add(layers.SimpleRNN(units=64,dropout=0.25))\n",
    "model.add(layers.Dense(units=1,activation='sigmoid'))\n",
    "print(model.summary())"
   ]
  },
  {
   "cell_type": "code",
   "execution_count": 5,
   "metadata": {},
   "outputs": [
    {
     "name": "stdout",
     "output_type": "stream",
     "text": [
      "Epoch 1/10\n",
      "195/195 - 28s - loss: 0.5279 - accuracy: 0.7173\n",
      "Epoch 2/10\n",
      "195/195 - 25s - loss: 0.3281 - accuracy: 0.8643\n",
      "Epoch 3/10\n",
      "195/195 - 26s - loss: 0.2202 - accuracy: 0.9158\n",
      "Epoch 4/10\n",
      "195/195 - 26s - loss: 0.1150 - accuracy: 0.9580\n",
      "Epoch 5/10\n",
      "195/195 - 25s - loss: 0.0691 - accuracy: 0.9757\n",
      "Epoch 6/10\n",
      "195/195 - 24s - loss: 0.0479 - accuracy: 0.9835\n",
      "Epoch 7/10\n",
      "195/195 - 25s - loss: 0.0515 - accuracy: 0.9823\n",
      "Epoch 8/10\n",
      "195/195 - 25s - loss: 0.0377 - accuracy: 0.9869\n",
      "Epoch 9/10\n",
      "195/195 - 25s - loss: 0.0304 - accuracy: 0.9897\n",
      "Epoch 10/10\n",
      "195/195 - 26s - loss: 0.0240 - accuracy: 0.9925\n",
      "195/195 [==============================] - 6s 31ms/step - loss: 3.4897 - accuracy: 0.4980 0s - loss: 3.4924 - accuracy: 0.\n",
      "測試集的正確率 =  0.4979567229747772\n"
     ]
    }
   ],
   "source": [
    "model.compile(loss='binary_crossentropy',\n",
    "              optimizer= 'adam',\n",
    "              metrics=['accuracy'])\n",
    "history = model.fit(db_train,batch_size=batch_sizes,\n",
    "                    epochs=10,verbose=2)"
   ]
  },
  {
   "cell_type": "code",
   "execution_count": null,
   "metadata": {},
   "outputs": [],
   "source": []
  }
 ],
 "metadata": {
  "kernelspec": {
   "display_name": "Python [conda env:Tensorflow2_GPU]",
   "language": "python",
   "name": "conda-env-Tensorflow2_GPU-py"
  },
  "language_info": {
   "codemirror_mode": {
    "name": "ipython",
    "version": 3
   },
   "file_extension": ".py",
   "mimetype": "text/x-python",
   "name": "python",
   "nbconvert_exporter": "python",
   "pygments_lexer": "ipython3",
   "version": "3.8.5"
  }
 },
 "nbformat": 4,
 "nbformat_minor": 4
}
