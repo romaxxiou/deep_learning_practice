{
 "cells": [
  {
   "cell_type": "code",
   "execution_count": 1,
   "metadata": {},
   "outputs": [
    {
     "name": "stdout",
     "output_type": "stream",
     "text": [
      "out.shape :  (5, 32)\n",
      "h1[0].shape :  (5, 32)\n",
      "out : 2281564220928\n",
      "h1[0] : 2281564220928\n"
     ]
    }
   ],
   "source": [
    "import tensorflow as tf\n",
    "import tensorflow.keras as keras\n",
    "\n",
    "batch_size = 5\n",
    "time_step = 10\n",
    "embedding_dim = 20\n",
    "# 要輸入的資料\n",
    "data = tf.random.normal(shape=[batch_size,time_step,embedding_dim])\n",
    "hidden_dim = 32  # 隱藏層維度\n",
    "#  設定 h0 一開始的值\n",
    "h0 = tf.random.normal(shape=[batch_size,hidden_dim])\n",
    "x0 = data[:,0,:]  # 第一個時間的輸入資料\n",
    "simpleRNNCell = keras.layers.SimpleRNNCell(hidden_dim)\n",
    "# 完成一個時間步的運算\n",
    "out,h1 = simpleRNNCell(x0,[h0])\n",
    "print(\"out.shape : \",out.shape)\n",
    "print(\"h1[0].shape : \", h1[0].shape)\n",
    "# 查看 out 與 h1[0] 記憶體存放位址\n",
    "print(\"out :\",id(out))\n",
    "print(\"h1[0] :\", id(h1[0]))"
   ]
  },
  {
   "cell_type": "code",
   "execution_count": null,
   "metadata": {},
   "outputs": [],
   "source": []
  }
 ],
 "metadata": {
  "kernelspec": {
   "display_name": "Python [conda env:Tensorflow2_GPU]",
   "language": "python",
   "name": "conda-env-Tensorflow2_GPU-py"
  },
  "language_info": {
   "codemirror_mode": {
    "name": "ipython",
    "version": 3
   },
   "file_extension": ".py",
   "mimetype": "text/x-python",
   "name": "python",
   "nbconvert_exporter": "python",
   "pygments_lexer": "ipython3",
   "version": "3.8.5"
  }
 },
 "nbformat": 4,
 "nbformat_minor": 4
}
