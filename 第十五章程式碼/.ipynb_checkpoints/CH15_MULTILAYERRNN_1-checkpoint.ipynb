{
 "cells": [
  {
   "cell_type": "code",
   "execution_count": 1,
   "metadata": {},
   "outputs": [],
   "source": [
    "import tensorflow as tf\n",
    "from tensorflow.keras import layers\n",
    "# 建立兩個句子, 每個句子10個單詞\n",
    "word = tf.random.normal([2,10,20])\n",
    "x0 = word[:,0,:]   # 取第一個時間戳的輸入 x0\n",
    "# 構建 2 個 Cell,下面為 cell_0,上面為 cell_1，狀態向量長度都為 16\n",
    "cell_0 = layers.SimpleRNNCell(16)\n",
    "cell_1 = layers.SimpleRNNCell(16)\n",
    "h0 = [tf.zeros([2,16])]   # cell0 的初始狀態向量\n",
    "h1 = [tf.zeros([2,16])]   # cell1 的初始狀態向量\n",
    "\n",
    "out0, h0 = cell_0(x0, h0)\n",
    "out1, h1 = cell_1(out0, h1)\n",
    "\n",
    "for x in tf.unstack(word, axis=1):\n",
    "    # xt 作為輸入，輸出為 out0\n",
    "    out0, h0 = cell_0(x, h0)\n",
    "    # 上一個 cell 的輸出 out0 作為本 cell 的輸入\n",
    "    out1, h1 = cell_1(out0, h1)"
   ]
  },
  {
   "cell_type": "code",
   "execution_count": null,
   "metadata": {},
   "outputs": [],
   "source": []
  }
 ],
 "metadata": {
  "kernelspec": {
   "display_name": "Python [conda env:Tensorflow2_GPU]",
   "language": "python",
   "name": "conda-env-Tensorflow2_GPU-py"
  },
  "language_info": {
   "codemirror_mode": {
    "name": "ipython",
    "version": 3
   },
   "file_extension": ".py",
   "mimetype": "text/x-python",
   "name": "python",
   "nbconvert_exporter": "python",
   "pygments_lexer": "ipython3",
   "version": "3.8.5"
  }
 },
 "nbformat": 4,
 "nbformat_minor": 4
}
