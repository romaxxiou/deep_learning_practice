{
 "cells": [
  {
   "cell_type": "code",
   "execution_count": 1,
   "metadata": {
    "scrolled": true
   },
   "outputs": [
    {
     "name": "stdout",
     "output_type": "stream",
     "text": [
      "25000\n",
      "25000\n"
     ]
    }
   ],
   "source": [
    "import tensorflow as tf\n",
    "from tensorflow.keras.datasets import imdb\n",
    "from tensorflow.keras.preprocessing import sequence\n",
    "\n",
    "max_words = 100\n",
    "batch_sizes = 128\n",
    "# 載入 imdb 資料集\n",
    "(train_data, train_labels), (test_data, test_labels) = \\\n",
    "    imdb.load_data(num_words=10000)\n",
    "print(len(train_data))  # 印出訓練集的筆數\n",
    "print(len(test_data))   # 印出測試集的筆數\n",
    "# 讓所有的影評資料保持在 100個字\n",
    "train_data_new = sequence.pad_sequences(train_data,maxlen=max_words)\n",
    "test_data_new = sequence.pad_sequences(test_data,maxlen=max_words)\n",
    "db_train = tf.data.Dataset.from_tensor_slices((train_data_new,train_labels))\n",
    "# 參數 drop_remainder = true 代表當最後一批少於 batch_size元素的情况下就刪除\n",
    "# 將訓練資料打散\n",
    "db_train = db_train.shuffle(1000).batch(batch_sizes,drop_remainder=True)\n",
    "db_test = tf.data.Dataset.from_tensor_slices((test_data_new,train_labels))\n",
    "db_test = db_test.batch(batch_sizes,drop_remainder=True)"
   ]
  },
  {
   "cell_type": "code",
   "execution_count": 2,
   "metadata": {},
   "outputs": [
    {
     "name": "stdout",
     "output_type": "stream",
     "text": [
      "Model: \"sequential\"\n",
      "_________________________________________________________________\n",
      " Layer (type)                Output Shape              Param #   \n",
      "=================================================================\n",
      " embedding (Embedding)       (None, 100, 120)          1200000   \n",
      "                                                                 \n",
      " simple_rnn (SimpleRNN)      (None, 100, 64)           11840     \n",
      "                                                                 \n",
      " simple_rnn_1 (SimpleRNN)    (None, 64)                8256      \n",
      "                                                                 \n",
      " dense (Dense)               (None, 1)                 65        \n",
      "                                                                 \n",
      "=================================================================\n",
      "Total params: 1,220,161\n",
      "Trainable params: 1,220,161\n",
      "Non-trainable params: 0\n",
      "_________________________________________________________________\n",
      "None\n"
     ]
    }
   ],
   "source": [
    "from tensorflow.keras.models import Sequential\n",
    "from tensorflow.keras import layers\n",
    "\n",
    "vocab_size = 10000\n",
    "model = Sequential()\n",
    "model.add(layers.Embedding( vocab_size,\n",
    "                            output_dim=120,\n",
    "                            input_length= max_words))\n",
    "# 除了最上面那一層之外, 其他層的輸出都必須做為下一層的輸入\n",
    "model.add(layers.SimpleRNN(units=64,return_sequences=True,\n",
    "                           dropout=0.25))\n",
    "model.add(layers.SimpleRNN(units=64,dropout=0.25))\n",
    "model.add(layers.Dense(units=1,activation='sigmoid'))\n",
    "print(model.summary())"
   ]
  },
  {
   "cell_type": "code",
   "execution_count": 3,
   "metadata": {},
   "outputs": [
    {
     "name": "stdout",
     "output_type": "stream",
     "text": [
      "Epoch 1/10\n"
     ]
    },
    {
     "name": "stderr",
     "output_type": "stream",
     "text": [
      "2022-10-28 16:21:54.865714: W tensorflow/core/platform/profile_utils/cpu_utils.cc:128] Failed to get CPU frequency: 0 Hz\n"
     ]
    },
    {
     "name": "stdout",
     "output_type": "stream",
     "text": [
      "195/195 - 17s - loss: 0.5400 - accuracy: 0.6919 - 17s/epoch - 86ms/step\n",
      "Epoch 2/10\n",
      "195/195 - 16s - loss: 0.3164 - accuracy: 0.8691 - 16s/epoch - 83ms/step\n",
      "Epoch 3/10\n",
      "195/195 - 16s - loss: 0.2124 - accuracy: 0.9193 - 16s/epoch - 81ms/step\n",
      "Epoch 4/10\n",
      "195/195 - 17s - loss: 0.1289 - accuracy: 0.9536 - 17s/epoch - 85ms/step\n",
      "Epoch 5/10\n",
      "195/195 - 16s - loss: 0.1019 - accuracy: 0.9622 - 16s/epoch - 83ms/step\n",
      "Epoch 6/10\n",
      "195/195 - 16s - loss: 0.0587 - accuracy: 0.9804 - 16s/epoch - 82ms/step\n",
      "Epoch 7/10\n",
      "195/195 - 16s - loss: 0.0542 - accuracy: 0.9803 - 16s/epoch - 83ms/step\n",
      "Epoch 8/10\n",
      "195/195 - 16s - loss: 0.0293 - accuracy: 0.9901 - 16s/epoch - 83ms/step\n",
      "Epoch 9/10\n",
      "195/195 - 16s - loss: 0.0298 - accuracy: 0.9894 - 16s/epoch - 83ms/step\n",
      "Epoch 10/10\n",
      "195/195 - 16s - loss: 0.0263 - accuracy: 0.9910 - 16s/epoch - 83ms/step\n"
     ]
    }
   ],
   "source": [
    "model.compile(loss='binary_crossentropy',\n",
    "              optimizer= 'adam',\n",
    "              metrics=['accuracy'])\n",
    "history = model.fit(db_train,batch_size=batch_sizes,\n",
    "                    epochs=10,verbose=2)"
   ]
  },
  {
   "cell_type": "code",
   "execution_count": null,
   "metadata": {},
   "outputs": [],
   "source": []
  }
 ],
 "metadata": {
  "kernelspec": {
   "display_name": "Python 3 (ipykernel)",
   "language": "python",
   "name": "python3"
  },
  "language_info": {
   "codemirror_mode": {
    "name": "ipython",
    "version": 3
   },
   "file_extension": ".py",
   "mimetype": "text/x-python",
   "name": "python",
   "nbconvert_exporter": "python",
   "pygments_lexer": "ipython3",
   "version": "3.9.13"
  }
 },
 "nbformat": 4,
 "nbformat_minor": 4
}
