{
 "cells": [
  {
   "cell_type": "code",
   "execution_count": 2,
   "metadata": {},
   "outputs": [
    {
     "name": "stdout",
     "output_type": "stream",
     "text": [
      "train_data.shape (8982,)\n",
      "train_label.shape (8982,)\n",
      "test_data.shape (2246,)\n",
      "test_label.shape (2246,)\n"
     ]
    }
   ],
   "source": [
    "from tensorflow.keras.datasets import reuters\n",
    "# 下載最常見的多少字\n",
    "num_word = 10000\n",
    "(train_data,train_label),(test_data,test_label) = \\\n",
    "    reuters.load_data(num_words=num_word)\n",
    "print(\"train_data.shape\",train_data.shape)\n",
    "print(\"train_label.shape\",train_label.shape)\n",
    "print(\"test_data.shape\",test_data.shape)\n",
    "print(\"test_label.shape\",test_label.shape)"
   ]
  },
  {
   "cell_type": "code",
   "execution_count": 3,
   "metadata": {},
   "outputs": [
    {
     "name": "stdout",
     "output_type": "stream",
     "text": [
      "train_data[0] : [1, 2, 2, 8, 43, 10, 447, 5, 25, 207, 270, 5, 3095, 111, 16, 369, 186, 90, 67, 7, 89, 5, 19, 102, 6, 19, 124, 15, 90, 67, 84, 22, 482, 26, 7, 48, 4, 49, 8, 864, 39, 209, 154, 6, 151, 6, 83, 11, 15, 22, 155, 11, 15, 7, 48, 9, 4579, 1005, 504, 6, 258, 6, 272, 11, 15, 22, 134, 44, 11, 15, 16, 8, 197, 1245, 90, 67, 52, 29, 209, 30, 32, 132, 6, 109, 15, 17, 12]\n",
      "train_label[0] : 3\n"
     ]
    }
   ],
   "source": [
    "print(\"train_data[0] :\",train_data[0])\n",
    "print(\"train_label[0] :\",train_label[0])"
   ]
  },
  {
   "cell_type": "code",
   "execution_count": 4,
   "metadata": {},
   "outputs": [
    {
     "name": "stdout",
     "output_type": "stream",
     "text": [
      "'you' index =  1025\n"
     ]
    }
   ],
   "source": [
    "Index_of_word = reuters.get_word_index()\n",
    "youIndex = Index_of_word[\"you\"]\n",
    "print(\"'you' index = \",youIndex)"
   ]
  },
  {
   "cell_type": "code",
   "execution_count": 5,
   "metadata": {},
   "outputs": [
    {
     "name": "stdout",
     "output_type": "stream",
     "text": [
      "(8982, 200)\n",
      "(2246, 200)\n"
     ]
    }
   ],
   "source": [
    "# 資料預處理\n",
    "from tensorflow.keras.preprocessing import sequence\n",
    "# 將原始新聞長度裁剪成固定長度\n",
    "wordMaxNum = 200\n",
    "train_data_new = sequence.pad_sequences(train_data,maxlen = wordMaxNum)\n",
    "test_data_new = sequence.pad_sequences(test_data,maxlen = wordMaxNum)\n",
    "print(train_data_new.shape)\n",
    "print(test_data_new.shape)"
   ]
  },
  {
   "cell_type": "code",
   "execution_count": 6,
   "metadata": {},
   "outputs": [],
   "source": [
    "import tensorflow as tf\n",
    "# 定義類別數目\n",
    "num_classes = 46\n",
    "One_hot_Train = tf.one_hot(train_label,depth=num_classes)\n",
    "One_hot_Test = tf.one_hot(test_label,depth=num_classes)"
   ]
  },
  {
   "cell_type": "code",
   "execution_count": 7,
   "metadata": {},
   "outputs": [
    {
     "name": "stdout",
     "output_type": "stream",
     "text": [
      "Model: \"sequential\"\n",
      "_________________________________________________________________\n",
      "Layer (type)                 Output Shape              Param #   \n",
      "=================================================================\n",
      "embedding (Embedding)        (None, 200, 200)          2000000   \n",
      "_________________________________________________________________\n",
      "lstm (LSTM)                  (None, 200, 128)          168448    \n",
      "_________________________________________________________________\n",
      "lstm_1 (LSTM)                (None, 128)               131584    \n",
      "_________________________________________________________________\n",
      "dense (Dense)                (None, 46)                5934      \n",
      "=================================================================\n",
      "Total params: 2,305,966\n",
      "Trainable params: 2,305,966\n",
      "Non-trainable params: 0\n",
      "_________________________________________________________________\n",
      "None\n"
     ]
    }
   ],
   "source": [
    "from tensorflow.keras.layers import LSTM\n",
    "from tensorflow import keras\n",
    "from tensorflow.keras import layers\n",
    "model = keras.Sequential()\n",
    "model.add(layers.Embedding(num_word,\n",
    "                           output_dim=200,\n",
    "                           input_length= wordMaxNum))\n",
    "model.add(LSTM(128,dropout=0.5,return_sequences=True))\n",
    "model.add(LSTM(128,dropout=0.5))\n",
    "model.add(layers.Dense(num_classes, activation='softmax'))\n",
    "print(model.summary())"
   ]
  },
  {
   "cell_type": "code",
   "execution_count": 8,
   "metadata": {
    "scrolled": false
   },
   "outputs": [
    {
     "name": "stdout",
     "output_type": "stream",
     "text": [
      "Epoch 1/50\n",
      "225/225 - 18s - loss: 1.9841 - accuracy: 0.5068 - val_loss: 1.6709 - val_accuracy: 0.5982\n",
      "Epoch 2/50\n",
      "225/225 - 7s - loss: 1.6047 - accuracy: 0.6065 - val_loss: 1.5557 - val_accuracy: 0.6171\n",
      "Epoch 3/50\n",
      "225/225 - 7s - loss: 1.4381 - accuracy: 0.6416 - val_loss: 1.4085 - val_accuracy: 0.6589\n",
      "Epoch 4/50\n",
      "225/225 - 8s - loss: 1.3267 - accuracy: 0.6629 - val_loss: 1.3971 - val_accuracy: 0.6622\n",
      "Epoch 5/50\n",
      "225/225 - 7s - loss: 1.2022 - accuracy: 0.6958 - val_loss: 1.3323 - val_accuracy: 0.6650\n",
      "Epoch 6/50\n",
      "225/225 - 7s - loss: 1.1112 - accuracy: 0.7162 - val_loss: 1.3758 - val_accuracy: 0.6772\n",
      "Epoch 7/50\n",
      "225/225 - 7s - loss: 1.0407 - accuracy: 0.7314 - val_loss: 1.3231 - val_accuracy: 0.6733\n",
      "Epoch 8/50\n",
      "225/225 - 7s - loss: 0.9604 - accuracy: 0.7534 - val_loss: 1.2917 - val_accuracy: 0.6928\n",
      "Epoch 9/50\n",
      "225/225 - 7s - loss: 0.9157 - accuracy: 0.7634 - val_loss: 1.2011 - val_accuracy: 0.7123\n",
      "Epoch 10/50\n",
      "225/225 - 7s - loss: 0.8274 - accuracy: 0.7875 - val_loss: 1.2130 - val_accuracy: 0.7151\n",
      "Epoch 11/50\n",
      "225/225 - 7s - loss: 0.7872 - accuracy: 0.7992 - val_loss: 1.1918 - val_accuracy: 0.7145\n",
      "Epoch 12/50\n",
      "225/225 - 7s - loss: 0.7311 - accuracy: 0.8170 - val_loss: 1.2226 - val_accuracy: 0.7273\n",
      "Epoch 13/50\n",
      "225/225 - 7s - loss: 0.6805 - accuracy: 0.8221 - val_loss: 1.1821 - val_accuracy: 0.7323\n",
      "Epoch 14/50\n",
      "225/225 - 7s - loss: 0.6367 - accuracy: 0.8387 - val_loss: 1.2007 - val_accuracy: 0.7329\n",
      "Epoch 15/50\n",
      "225/225 - 7s - loss: 0.5883 - accuracy: 0.8507 - val_loss: 1.1719 - val_accuracy: 0.7474\n",
      "Epoch 16/50\n",
      "225/225 - 7s - loss: 0.5673 - accuracy: 0.8596 - val_loss: 1.1742 - val_accuracy: 0.7423\n",
      "Epoch 17/50\n",
      "225/225 - 7s - loss: 0.5476 - accuracy: 0.8600 - val_loss: 1.1997 - val_accuracy: 0.7485\n",
      "Epoch 18/50\n",
      "225/225 - 7s - loss: 0.5047 - accuracy: 0.8742 - val_loss: 1.2134 - val_accuracy: 0.7340\n",
      "Epoch 19/50\n",
      "225/225 - 8s - loss: 0.4762 - accuracy: 0.8810 - val_loss: 1.2393 - val_accuracy: 0.7346\n",
      "Epoch 20/50\n",
      "225/225 - 7s - loss: 0.4554 - accuracy: 0.8862 - val_loss: 1.3043 - val_accuracy: 0.7312\n",
      "Epoch 21/50\n",
      "225/225 - 9s - loss: 0.4311 - accuracy: 0.8903 - val_loss: 1.2785 - val_accuracy: 0.7524\n",
      "Epoch 22/50\n",
      "225/225 - 9s - loss: 0.4107 - accuracy: 0.8976 - val_loss: 1.2571 - val_accuracy: 0.7485\n",
      "Epoch 23/50\n",
      "225/225 - 8s - loss: 0.3947 - accuracy: 0.9010 - val_loss: 1.3225 - val_accuracy: 0.7351\n",
      "Epoch 24/50\n",
      "225/225 - 8s - loss: 0.3750 - accuracy: 0.9056 - val_loss: 1.3430 - val_accuracy: 0.7423\n",
      "Epoch 25/50\n",
      "225/225 - 8s - loss: 0.3441 - accuracy: 0.9161 - val_loss: 1.2830 - val_accuracy: 0.7412\n",
      "Epoch 26/50\n",
      "225/225 - 7s - loss: 0.3447 - accuracy: 0.9115 - val_loss: 1.3091 - val_accuracy: 0.7457\n",
      "Epoch 27/50\n",
      "225/225 - 7s - loss: 0.3121 - accuracy: 0.9200 - val_loss: 1.3962 - val_accuracy: 0.7351\n",
      "Epoch 28/50\n",
      "225/225 - 8s - loss: 0.2966 - accuracy: 0.9260 - val_loss: 1.3571 - val_accuracy: 0.7346\n",
      "Epoch 29/50\n",
      "225/225 - 8s - loss: 0.2904 - accuracy: 0.9276 - val_loss: 1.4336 - val_accuracy: 0.7173\n",
      "Epoch 30/50\n",
      "225/225 - 8s - loss: 0.2681 - accuracy: 0.9308 - val_loss: 1.3625 - val_accuracy: 0.7340\n",
      "Epoch 31/50\n",
      "225/225 - 8s - loss: 0.2670 - accuracy: 0.9314 - val_loss: 1.3532 - val_accuracy: 0.7340\n",
      "Epoch 32/50\n",
      "225/225 - 8s - loss: 0.2479 - accuracy: 0.9349 - val_loss: 1.4168 - val_accuracy: 0.7368\n",
      "Epoch 33/50\n",
      "225/225 - 8s - loss: 0.2362 - accuracy: 0.9385 - val_loss: 1.4326 - val_accuracy: 0.7412\n",
      "Epoch 34/50\n",
      "225/225 - 8s - loss: 0.2306 - accuracy: 0.9372 - val_loss: 1.4496 - val_accuracy: 0.7368\n",
      "Epoch 35/50\n",
      "225/225 - 8s - loss: 0.2233 - accuracy: 0.9415 - val_loss: 1.4278 - val_accuracy: 0.7407\n",
      "Epoch 36/50\n",
      "225/225 - 8s - loss: 0.2127 - accuracy: 0.9457 - val_loss: 1.4986 - val_accuracy: 0.7435\n",
      "Epoch 37/50\n",
      "225/225 - 7s - loss: 0.2107 - accuracy: 0.9432 - val_loss: 1.5343 - val_accuracy: 0.7123\n",
      "Epoch 38/50\n",
      "225/225 - 7s - loss: 0.1976 - accuracy: 0.9466 - val_loss: 1.4608 - val_accuracy: 0.7268\n",
      "Epoch 39/50\n",
      "225/225 - 8s - loss: 0.1890 - accuracy: 0.9489 - val_loss: 1.4555 - val_accuracy: 0.7312\n",
      "Epoch 40/50\n",
      "225/225 - 8s - loss: 0.1828 - accuracy: 0.9491 - val_loss: 1.5239 - val_accuracy: 0.7162\n",
      "Epoch 41/50\n",
      "225/225 - 8s - loss: 0.1770 - accuracy: 0.9495 - val_loss: 1.4830 - val_accuracy: 0.7323\n",
      "Epoch 42/50\n",
      "225/225 - 7s - loss: 0.1764 - accuracy: 0.9513 - val_loss: 1.5507 - val_accuracy: 0.7229\n",
      "Epoch 43/50\n",
      "225/225 - 7s - loss: 0.1698 - accuracy: 0.9510 - val_loss: 1.4991 - val_accuracy: 0.7245\n",
      "Epoch 44/50\n",
      "225/225 - 8s - loss: 0.1671 - accuracy: 0.9535 - val_loss: 1.5898 - val_accuracy: 0.7223\n",
      "Epoch 45/50\n",
      "225/225 - 7s - loss: 0.1637 - accuracy: 0.9537 - val_loss: 1.5416 - val_accuracy: 0.7290\n",
      "Epoch 46/50\n",
      "225/225 - 7s - loss: 0.1527 - accuracy: 0.9576 - val_loss: 1.5852 - val_accuracy: 0.7245\n",
      "Epoch 47/50\n",
      "225/225 - 7s - loss: 0.1532 - accuracy: 0.9549 - val_loss: 1.5736 - val_accuracy: 0.7173\n",
      "Epoch 48/50\n",
      "225/225 - 7s - loss: 0.1501 - accuracy: 0.9556 - val_loss: 1.6360 - val_accuracy: 0.7323\n",
      "Epoch 49/50\n",
      "225/225 - 8s - loss: 0.1470 - accuracy: 0.9537 - val_loss: 1.5742 - val_accuracy: 0.7229\n",
      "Epoch 50/50\n",
      "225/225 - 8s - loss: 0.1424 - accuracy: 0.9559 - val_loss: 1.5679 - val_accuracy: 0.7229\n"
     ]
    }
   ],
   "source": [
    "import matplotlib.pyplot as plt\n",
    "batch_sizes = 32\n",
    "epochs = 50\n",
    "model.compile(optimizer='rmsprop',\n",
    "              loss='categorical_crossentropy',\n",
    "              metrics=[\"accuracy\"])\n",
    "hist = model.fit(train_data_new,One_hot_Train,epochs=epochs,\n",
    "                 batch_size=batch_sizes,verbose=2,\n",
    "                 validation_split=0.2)"
   ]
  },
  {
   "cell_type": "code",
   "execution_count": 9,
   "metadata": {},
   "outputs": [
    {
     "name": "stdout",
     "output_type": "stream",
     "text": [
      "71/71 [==============================] - 1s 10ms/step - loss: 1.7502 - accuracy: 0.7079\n",
      "測試集的正確率 =  0.7079252004623413\n"
     ]
    }
   ],
   "source": [
    "loss,accuracy = model.evaluate(test_data_new,One_hot_Test)\n",
    "print(\"測試集的正確率 = \",accuracy)"
   ]
  },
  {
   "cell_type": "code",
   "execution_count": null,
   "metadata": {},
   "outputs": [],
   "source": []
  }
 ],
 "metadata": {
  "kernelspec": {
   "display_name": "Python [conda env:Tensorflow2_GPU]",
   "language": "python",
   "name": "conda-env-Tensorflow2_GPU-py"
  },
  "language_info": {
   "codemirror_mode": {
    "name": "ipython",
    "version": 3
   },
   "file_extension": ".py",
   "mimetype": "text/x-python",
   "name": "python",
   "nbconvert_exporter": "python",
   "pygments_lexer": "ipython3",
   "version": "3.8.5"
  }
 },
 "nbformat": 4,
 "nbformat_minor": 4
}
