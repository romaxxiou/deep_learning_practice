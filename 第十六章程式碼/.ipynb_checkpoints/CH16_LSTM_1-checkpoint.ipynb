{
 "cells": [
  {
   "cell_type": "code",
   "execution_count": 1,
   "metadata": {},
   "outputs": [
    {
     "name": "stdout",
     "output_type": "stream",
     "text": [
      "(2, 32)\n"
     ]
    }
   ],
   "source": [
    "import tensorflow as tf\n",
    "from tensorflow.keras import layers\n",
    "# 建立輸入資訊 (批次大小, 每句單詞數目, 單詞特徵數)\n",
    "inputs = tf.random.normal([2, 10, 8])\n",
    "# 創建 LSTM, 輸出空間為度為 32\n",
    "LSTM = layers.LSTM(32)\n",
    "# 完成前向運算\n",
    "out = LSTM(inputs)\n",
    "print(out.shape)"
   ]
  },
  {
   "cell_type": "code",
   "execution_count": null,
   "metadata": {},
   "outputs": [],
   "source": []
  }
 ],
 "metadata": {
  "kernelspec": {
   "display_name": "Python [conda env:Tensorflow2_GPU]",
   "language": "python",
   "name": "conda-env-Tensorflow2_GPU-py"
  },
  "language_info": {
   "codemirror_mode": {
    "name": "ipython",
    "version": 3
   },
   "file_extension": ".py",
   "mimetype": "text/x-python",
   "name": "python",
   "nbconvert_exporter": "python",
   "pygments_lexer": "ipython3",
   "version": "3.8.5"
  }
 },
 "nbformat": 4,
 "nbformat_minor": 4
}
