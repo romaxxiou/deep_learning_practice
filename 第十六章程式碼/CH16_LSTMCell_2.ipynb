{
 "cells": [
  {
   "cell_type": "code",
   "execution_count": 1,
   "metadata": {},
   "outputs": [
    {
     "name": "stdout",
     "output_type": "stream",
     "text": [
      "2182704046144\n",
      "2182701189424\n",
      "2182704048608\n",
      "2182701189424\n",
      "2182704048432\n",
      "2182701189424\n",
      "2182704048256\n",
      "2182701189424\n",
      "2182704047904\n",
      "2182701189424\n"
     ]
    }
   ],
   "source": [
    "import tensorflow as tf\n",
    "from tensorflow.keras import layers\n",
    "# input 格式 =[句子數目, 每句單詞數目, 單詞的特徵數目]\n",
    "input = tf.random.normal([2,10,50])\n",
    "state = [tf.zeros([2,32]),tf.zeros([2,32])]\n",
    "# 創建 LSTMCell, 輸出空間為度為 32\n",
    "Cell = layers.LSTMCell(32)\n",
    "for xt in tf.unstack(input, axis=1):\n",
    "    output,state = Cell(xt,state)\n",
    "    print(id(output))"
   ]
  },
  {
   "cell_type": "code",
   "execution_count": null,
   "metadata": {},
   "outputs": [],
   "source": []
  }
 ],
 "metadata": {
  "kernelspec": {
   "display_name": "Python [conda env:Tensorflow2_GPU]",
   "language": "python",
   "name": "conda-env-Tensorflow2_GPU-py"
  },
  "language_info": {
   "codemirror_mode": {
    "name": "ipython",
    "version": 3
   },
   "file_extension": ".py",
   "mimetype": "text/x-python",
   "name": "python",
   "nbconvert_exporter": "python",
   "pygments_lexer": "ipython3",
   "version": "3.8.5"
  }
 },
 "nbformat": 4,
 "nbformat_minor": 4
}
