{
 "cells": [
  {
   "cell_type": "code",
   "execution_count": 1,
   "metadata": {},
   "outputs": [
    {
     "name": "stdout",
     "output_type": "stream",
     "text": [
      "tf.Tensor(\n",
      "[[-0.00762552  0.04517038 -0.03769987]\n",
      " [-0.01992968 -0.03565208 -0.03385767]\n",
      " [ 0.02301702 -0.01700314  0.01229732]\n",
      " [-0.01936209  0.02277776 -0.04629691]\n",
      " [-0.00100261 -0.02295992 -0.04595375]\n",
      " [-0.04695839  0.01848248  0.04455567]\n",
      " [ 0.02747891  0.02014535  0.01528947]\n",
      " [ 0.01201273 -0.01234523  0.00590018]\n",
      " [-0.04708001  0.02735129  0.01242738]\n",
      " [-0.04674642  0.02640492  0.03070242]], shape=(10, 3), dtype=float32)\n"
     ]
    }
   ],
   "source": [
    "import tensorflow as tf\n",
    "from tensorflow.keras import layers\n",
    "\n",
    "x = tf.range(10)  # 產生10個單詞的index\n",
    "# 創建 10 個單詞, 每個單詞長度為 3 的 Word Embedding層\n",
    "embeddingnet = layers.Embedding(10,3)\n",
    "out = embeddingnet(x)\n",
    "print(out)"
   ]
  },
  {
   "cell_type": "code",
   "execution_count": 2,
   "metadata": {},
   "outputs": [
    {
     "name": "stdout",
     "output_type": "stream",
     "text": [
      "<tf.Variable 'embedding/embeddings:0' shape=(10, 3) dtype=float32, numpy=\n",
      "array([[-0.00762552,  0.04517038, -0.03769987],\n",
      "       [-0.01992968, -0.03565208, -0.03385767],\n",
      "       [ 0.02301702, -0.01700314,  0.01229732],\n",
      "       [-0.01936209,  0.02277776, -0.04629691],\n",
      "       [-0.00100261, -0.02295992, -0.04595375],\n",
      "       [-0.04695839,  0.01848248,  0.04455567],\n",
      "       [ 0.02747891,  0.02014535,  0.01528947],\n",
      "       [ 0.01201273, -0.01234523,  0.00590018],\n",
      "       [-0.04708001,  0.02735129,  0.01242738],\n",
      "       [-0.04674642,  0.02640492,  0.03070242]], dtype=float32)>\n",
      "True\n"
     ]
    }
   ],
   "source": [
    "# 得到 embedding 層參數\n",
    "print(embeddingnet.embeddings)\n",
    "# 查看參數是否是可以訓練的\n",
    "print(embeddingnet.embeddings.trainable)"
   ]
  },
  {
   "cell_type": "code",
   "execution_count": null,
   "metadata": {},
   "outputs": [],
   "source": []
  }
 ],
 "metadata": {
  "kernelspec": {
   "display_name": "Python [conda env:Tensorflow2_GPU]",
   "language": "python",
   "name": "conda-env-Tensorflow2_GPU-py"
  },
  "language_info": {
   "codemirror_mode": {
    "name": "ipython",
    "version": 3
   },
   "file_extension": ".py",
   "mimetype": "text/x-python",
   "name": "python",
   "nbconvert_exporter": "python",
   "pygments_lexer": "ipython3",
   "version": "3.8.5"
  }
 },
 "nbformat": 4,
 "nbformat_minor": 4
}
