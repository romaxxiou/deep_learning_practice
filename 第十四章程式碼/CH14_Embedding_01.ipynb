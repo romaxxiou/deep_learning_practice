{
 "cells": [
  {
   "cell_type": "code",
   "execution_count": 1,
   "metadata": {},
   "outputs": [
    {
     "name": "stdout",
     "output_type": "stream",
     "text": [
      "tf.Tensor(\n",
      "[[-0.02692045  0.04263074 -0.01862876]\n",
      " [-0.04253326 -0.00458181 -0.01855283]\n",
      " [-0.00938035 -0.04965532 -0.04530683]\n",
      " [ 0.04530979 -0.01605215 -0.0190699 ]\n",
      " [ 0.02036682  0.02531332  0.04678765]\n",
      " [-0.00997264  0.00012172 -0.03951764]\n",
      " [-0.03516417  0.0450256   0.00822349]\n",
      " [-0.01668031 -0.01254394 -0.00631505]\n",
      " [ 0.023479   -0.00376706 -0.00397446]\n",
      " [-0.02415398  0.01911185 -0.00171412]], shape=(10, 3), dtype=float32)\n"
     ]
    }
   ],
   "source": [
    "import tensorflow as tf\n",
    "from tensorflow.keras import layers\n",
    "\n",
    "x = tf.range(10)  # 產生10個單詞的index\n",
    "# 創建 10 個單詞, 每個單詞長度為 3 的 Word Embedding層\n",
    "embeddingnet = layers.Embedding(10,3)\n",
    "out = embeddingnet(x)\n",
    "print(out)"
   ]
  },
  {
   "cell_type": "code",
   "execution_count": 2,
   "metadata": {},
   "outputs": [
    {
     "name": "stdout",
     "output_type": "stream",
     "text": [
      "<tf.Variable 'embedding/embeddings:0' shape=(10, 3) dtype=float32, numpy=\n",
      "array([[-0.02692045,  0.04263074, -0.01862876],\n",
      "       [-0.04253326, -0.00458181, -0.01855283],\n",
      "       [-0.00938035, -0.04965532, -0.04530683],\n",
      "       [ 0.04530979, -0.01605215, -0.0190699 ],\n",
      "       [ 0.02036682,  0.02531332,  0.04678765],\n",
      "       [-0.00997264,  0.00012172, -0.03951764],\n",
      "       [-0.03516417,  0.0450256 ,  0.00822349],\n",
      "       [-0.01668031, -0.01254394, -0.00631505],\n",
      "       [ 0.023479  , -0.00376706, -0.00397446],\n",
      "       [-0.02415398,  0.01911185, -0.00171412]], dtype=float32)>\n",
      "True\n"
     ]
    }
   ],
   "source": [
    "# 得到 embedding 層參數\n",
    "print(embeddingnet.embeddings)\n",
    "# 查看參數是否是可以訓練的\n",
    "print(embeddingnet.embeddings.trainable)"
   ]
  },
  {
   "cell_type": "code",
   "execution_count": null,
   "metadata": {},
   "outputs": [],
   "source": []
  }
 ],
 "metadata": {
  "kernelspec": {
   "display_name": "Python [conda env:pai] *",
   "language": "python",
   "name": "conda-env-pai-py"
  },
  "language_info": {
   "codemirror_mode": {
    "name": "ipython",
    "version": 3
   },
   "file_extension": ".py",
   "mimetype": "text/x-python",
   "name": "python",
   "nbconvert_exporter": "python",
   "pygments_lexer": "ipython3",
   "version": "3.8.13"
  }
 },
 "nbformat": 4,
 "nbformat_minor": 4
}
