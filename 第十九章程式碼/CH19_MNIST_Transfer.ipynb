{
 "cells": [
  {
   "cell_type": "code",
   "execution_count": 1,
   "metadata": {},
   "outputs": [
    {
     "name": "stdout",
     "output_type": "stream",
     "text": [
      "共有 60000 訓練資料，每張圖的大小為 28 x 28\n",
      "共有 10000 測試資料，每張圖的大小為 28 x 28\n"
     ]
    }
   ],
   "source": [
    "import numpy as np\n",
    "import tensorflow as tf\n",
    "from tensorflow.keras.datasets import mnist\n",
    "from tensorflow.keras.models import Sequential\n",
    "from tensorflow.keras.layers import Dense, Conv2D, Flatten, MaxPooling2D\n",
    "from tensorflow.keras.optimizers import SGD\n",
    "# tf.Keras utilis function\n",
    "from tensorflow.keras.utils import to_categorical\n",
    "\n",
    "(train_data, train_label), (test_data,test_label) = mnist.load_data()\n",
    "print(\"共有 %d 訓練資料，每張圖的大小為 %d x %d\" %train_data.shape)\n",
    "print(\"共有 %d 測試資料，每張圖的大小為 %d x %d\" %test_data.shape)"
   ]
  },
  {
   "cell_type": "code",
   "execution_count": 2,
   "metadata": {
    "scrolled": false
   },
   "outputs": [
    {
     "name": "stdout",
     "output_type": "stream",
     "text": [
      "(30596, 28, 28)\n",
      "(30596,)\n"
     ]
    }
   ],
   "source": [
    "train_data_first5 = train_data[train_label<5]\n",
    "train_label_first5 = train_label[train_label<5]\n",
    "test_data_first5 = test_data[test_label<5]\n",
    "test_label_first5 = test_label[test_label<5]\n",
    "print(train_data_first5.shape)\n",
    "print(train_label_first5.shape)\n",
    "train_data_last5 = train_data[train_label>=5]\n",
    "# 將標籤 5-9 改為 0-4\n",
    "train_label_last5 = train_label[train_label>=5]-5\n",
    "test_data_last5 = test_data[test_label>=5]\n",
    "test_label_last5 = test_label[test_label>=5]-5"
   ]
  },
  {
   "cell_type": "code",
   "execution_count": 3,
   "metadata": {},
   "outputs": [],
   "source": [
    "# 資料前處理與維度轉換\n",
    "def preprocess(x):\n",
    "    x = tf.cast(x, dtype = tf.float32)/255\n",
    "    x = tf.reshape(x,[x.shape[0],28,28,1])\n",
    "    return x\n",
    "\n",
    "train_data_first5 = preprocess(train_data_first5)\n",
    "test_data_first5 = preprocess(test_data_first5)\n",
    "train_data_last5 = preprocess(train_data_last5)\n",
    "test_data_last5 = preprocess(test_data_last5)"
   ]
  },
  {
   "cell_type": "code",
   "execution_count": 4,
   "metadata": {
    "scrolled": true
   },
   "outputs": [
    {
     "name": "stdout",
     "output_type": "stream",
     "text": [
      "(30596, 5)\n"
     ]
    }
   ],
   "source": [
    "train_label_first5 = to_categorical(train_label_first5,5)\n",
    "test_label_first5 = to_categorical(test_label_first5,5)\n",
    "train_label_last5 = to_categorical(train_label_last5,5)\n",
    "test_label_last5 = to_categorical(test_label_last5,5)\n",
    "print(train_label_first5.shape)"
   ]
  },
  {
   "cell_type": "code",
   "execution_count": 5,
   "metadata": {},
   "outputs": [
    {
     "name": "stdout",
     "output_type": "stream",
     "text": [
      "Model: \"sequential\"\n",
      "_________________________________________________________________\n",
      "Layer (type)                 Output Shape              Param #   \n",
      "=================================================================\n",
      "conv2d (Conv2D)              (None, 26, 26, 32)        320       \n",
      "_________________________________________________________________\n",
      "max_pooling2d (MaxPooling2D) (None, 13, 13, 32)        0         \n",
      "_________________________________________________________________\n",
      "conv2d_1 (Conv2D)            (None, 11, 11, 16)        4624      \n",
      "_________________________________________________________________\n",
      "max_pooling2d_1 (MaxPooling2 (None, 5, 5, 16)          0         \n",
      "_________________________________________________________________\n",
      "flatten (Flatten)            (None, 400)               0         \n",
      "_________________________________________________________________\n",
      "dense (Dense)                (None, 64)                25664     \n",
      "_________________________________________________________________\n",
      "dense_1 (Dense)              (None, 5)                 325       \n",
      "=================================================================\n",
      "Total params: 30,933\n",
      "Trainable params: 30,933\n",
      "Non-trainable params: 0\n",
      "_________________________________________________________________\n"
     ]
    }
   ],
   "source": [
    "model = Sequential()\n",
    "model.add(Conv2D(32, kernel_size = (3,3),\n",
    "                 input_shape=(28,28,1),activation = \"relu\"))\n",
    "model.add(MaxPooling2D(pool_size=(2,2)))\n",
    "model.add(Conv2D(16, kernel_size = (3,3),activation = \"relu\"))\n",
    "model.add(MaxPooling2D(pool_size=(2,2)))\n",
    "model.add(Flatten())\n",
    "model.add(Dense(64, activation = \"relu\"))\n",
    "model.add(Dense(5, activation = \"softmax\"))\n",
    "model.summary()"
   ]
  },
  {
   "cell_type": "code",
   "execution_count": 6,
   "metadata": {},
   "outputs": [
    {
     "name": "stdout",
     "output_type": "stream",
     "text": [
      "Epoch 1/5\n",
      "383/383 - 21s - loss: 0.1595 - accuracy: 0.9574 - val_loss: 0.0396 - val_accuracy: 0.9889\n",
      "Epoch 2/5\n",
      "383/383 - 1s - loss: 0.0346 - accuracy: 0.9899 - val_loss: 0.0242 - val_accuracy: 0.9923\n",
      "Epoch 3/5\n",
      "383/383 - 1s - loss: 0.0238 - accuracy: 0.9927 - val_loss: 0.0185 - val_accuracy: 0.9948\n",
      "Epoch 4/5\n",
      "383/383 - 1s - loss: 0.0170 - accuracy: 0.9948 - val_loss: 0.0222 - val_accuracy: 0.9933\n",
      "Epoch 5/5\n",
      "383/383 - 1s - loss: 0.0142 - accuracy: 0.9954 - val_loss: 0.0135 - val_accuracy: 0.9954\n"
     ]
    }
   ],
   "source": [
    "model.compile(loss = \"categorical_crossentropy\", optimizer = \"adam\",\n",
    "             metrics=[\"accuracy\"])\n",
    "history = model.fit(train_data_first5,train_label_first5,\n",
    "                    validation_split = 0.2,\n",
    "                    epochs=5, batch_size = 64,verbose=2)"
   ]
  },
  {
   "cell_type": "code",
   "execution_count": 7,
   "metadata": {},
   "outputs": [
    {
     "name": "stdout",
     "output_type": "stream",
     "text": [
      "7\n",
      "0 <tensorflow.python.keras.layers.convolutional.Conv2D object at 0x000001982DBF3F10>\n",
      "1 <tensorflow.python.keras.layers.pooling.MaxPooling2D object at 0x00000198310AF970>\n",
      "2 <tensorflow.python.keras.layers.convolutional.Conv2D object at 0x00000198310C49A0>\n",
      "3 <tensorflow.python.keras.layers.pooling.MaxPooling2D object at 0x0000019831191760>\n",
      "4 <tensorflow.python.keras.layers.core.Flatten object at 0x000001983119ED30>\n",
      "5 <tensorflow.python.keras.layers.core.Dense object at 0x000001983117B2B0>\n",
      "6 <tensorflow.python.keras.layers.core.Dense object at 0x000001983119EF10>\n"
     ]
    }
   ],
   "source": [
    "print(len(model.layers))\n",
    "for i in range(len(model.layers)):\n",
    "    print(i, model.layers[i])"
   ]
  },
  {
   "cell_type": "code",
   "execution_count": 8,
   "metadata": {},
   "outputs": [],
   "source": [
    "for i in range(4):\n",
    "    model.layers[i].trainable = False"
   ]
  },
  {
   "cell_type": "code",
   "execution_count": 9,
   "metadata": {},
   "outputs": [
    {
     "name": "stdout",
     "output_type": "stream",
     "text": [
      "Epoch 1/5\n",
      "368/368 - 6s - loss: 0.2973 - accuracy: 0.9182 - val_loss: 0.0812 - val_accuracy: 0.9750\n",
      "Epoch 2/5\n",
      "368/368 - 1s - loss: 0.0591 - accuracy: 0.9813 - val_loss: 0.0549 - val_accuracy: 0.9830\n",
      "Epoch 3/5\n",
      "368/368 - 1s - loss: 0.0425 - accuracy: 0.9873 - val_loss: 0.0457 - val_accuracy: 0.9854\n",
      "Epoch 4/5\n",
      "368/368 - 1s - loss: 0.0344 - accuracy: 0.9893 - val_loss: 0.0415 - val_accuracy: 0.9876\n",
      "Epoch 5/5\n",
      "368/368 - 1s - loss: 0.0276 - accuracy: 0.9915 - val_loss: 0.0362 - val_accuracy: 0.9889\n"
     ]
    }
   ],
   "source": [
    "model.compile(loss = \"categorical_crossentropy\", optimizer = \"adam\",\n",
    "             metrics=[\"accuracy\"])\n",
    "history = model.fit(train_data_last5,train_label_last5,\n",
    "                    validation_split = 0.2,\n",
    "                    epochs=5, batch_size = 64,verbose=2)"
   ]
  },
  {
   "cell_type": "code",
   "execution_count": 10,
   "metadata": {},
   "outputs": [
    {
     "name": "stdout",
     "output_type": "stream",
     "text": [
      "152/152 [==============================] - 5s 17ms/step - loss: 0.0246 - accuracy: 0.9926\n"
     ]
    }
   ],
   "source": [
    "loss, accuracy = model.evaluate(test_data_last5,test_label_last5)"
   ]
  }
 ],
 "metadata": {
  "kernelspec": {
   "display_name": "Python [conda env:Tensorflow2_GPU]",
   "language": "python",
   "name": "conda-env-Tensorflow2_GPU-py"
  },
  "language_info": {
   "codemirror_mode": {
    "name": "ipython",
    "version": 3
   },
   "file_extension": ".py",
   "mimetype": "text/x-python",
   "name": "python",
   "nbconvert_exporter": "python",
   "pygments_lexer": "ipython3",
   "version": "3.8.5"
  }
 },
 "nbformat": 4,
 "nbformat_minor": 4
}
