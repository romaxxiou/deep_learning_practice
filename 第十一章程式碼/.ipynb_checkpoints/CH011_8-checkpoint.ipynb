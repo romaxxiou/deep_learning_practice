{
 "cells": [
  {
   "cell_type": "code",
   "execution_count": 1,
   "metadata": {},
   "outputs": [
    {
     "name": "stdout",
     "output_type": "stream",
     "text": [
      "(4, 4)\n",
      "(1, 4, 4)\n",
      "(1, 4, 4, 1)\n",
      "tf.Tensor(\n",
      "[[[[4.]\n",
      "   [4.]\n",
      "   [3.]]\n",
      "\n",
      "  [[3.]\n",
      "   [4.]\n",
      "   [6.]]\n",
      "\n",
      "  [[6.]\n",
      "   [6.]\n",
      "   [6.]]]], shape=(1, 3, 3, 1), dtype=float32)\n"
     ]
    }
   ],
   "source": [
    "import tensorflow as tf\n",
    "# 定義一個 feature_map\n",
    "feature_map = tf.constant([\n",
    "     [0.0,4.0,3.0,2.5],\n",
    "     [2.0,1.0,1.5,3.0],\n",
    "     [3.0,2.0,4.0,6.0],\n",
    "     [2.0,6.0,2.0,6.0]])\n",
    "# 印出維度\n",
    "print(feature_map.shape)\n",
    "# 在 dim = 0 插入一個維度\n",
    "feature_map = tf.expand_dims(feature_map,0)\n",
    "print(feature_map.shape)\n",
    "# 在 dim = 3 插入一個維度 =>目的要讓他變成　(1,4,4,1)\n",
    "feature_map = tf.expand_dims(feature_map,-1)\n",
    "print(feature_map.shape)\n",
    "\n",
    "## 定義池化層\n",
    "## 池化窗口2*2，高寬方向步長都為 1\n",
    "pooling = tf.nn.max_pool(input = feature_map,\n",
    "                         ksize = [1,2,2,1],\n",
    "                         strides = [1,1,1,1],\n",
    "                         padding='VALID')\n",
    "print(pooling)"
   ]
  },
  {
   "cell_type": "code",
   "execution_count": null,
   "metadata": {},
   "outputs": [],
   "source": []
  }
 ],
 "metadata": {
  "kernelspec": {
   "display_name": "Python [conda env:Tensorflow2_GPU]",
   "language": "python",
   "name": "conda-env-Tensorflow2_GPU-py"
  },
  "language_info": {
   "codemirror_mode": {
    "name": "ipython",
    "version": 3
   },
   "file_extension": ".py",
   "mimetype": "text/x-python",
   "name": "python",
   "nbconvert_exporter": "python",
   "pygments_lexer": "ipython3",
   "version": "3.8.5"
  }
 },
 "nbformat": 4,
 "nbformat_minor": 4
}
