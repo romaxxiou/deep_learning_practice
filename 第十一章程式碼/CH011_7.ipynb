{
 "cells": [
  {
   "cell_type": "code",
   "execution_count": 1,
   "metadata": {
    "scrolled": true
   },
   "outputs": [
    {
     "name": "stdout",
     "output_type": "stream",
     "text": [
      "tf.Tensor(\n",
      "[[[[3.2325191]\n",
      "   [3.425694 ]\n",
      "   [2.1036005]]\n",
      "\n",
      "  [[2.5740702]\n",
      "   [7.252206 ]\n",
      "   [5.457941 ]]\n",
      "\n",
      "  [[4.057995 ]\n",
      "   [4.7205834]\n",
      "   [0.       ]]]], shape=(1, 3, 3, 1), dtype=float32)\n"
     ]
    }
   ],
   "source": [
    "import tensorflow as tf\n",
    "from tensorflow.keras.models import Sequential\n",
    "from tensorflow.keras.layers import Conv2D\n",
    "\n",
    "CNNModel = Sequential()\n",
    "# 加入一個卷積層\n",
    "CNNModel.add(Conv2D(filters=1,    # 設定 filter 個數\n",
    "                    kernel_size=(3,3),   # 設定 filter 大小\n",
    "                    kernel_initializer= tf.keras.initializers.ones(),\n",
    "                    input_shape=(5,5,1),   # (高,寬,通道數)\n",
    "                    activation='relu'))  # 設定激勵函數\n",
    "\n",
    "# 輸入 [1組資料, 高為5, 寬為5, 通道數為 1]\n",
    "x = tf.random.normal([1,5,5,1])\n",
    "# 前項計算\n",
    "out = CNNModel(x)\n",
    "print(out)"
   ]
  },
  {
   "cell_type": "code",
   "execution_count": null,
   "metadata": {},
   "outputs": [],
   "source": []
  }
 ],
 "metadata": {
  "kernelspec": {
   "display_name": "Python [conda env:pai] *",
   "language": "python",
   "name": "conda-env-pai-py"
  },
  "language_info": {
   "codemirror_mode": {
    "name": "ipython",
    "version": 3
   },
   "file_extension": ".py",
   "mimetype": "text/x-python",
   "name": "python",
   "nbconvert_exporter": "python",
   "pygments_lexer": "ipython3",
   "version": "3.9.13"
  }
 },
 "nbformat": 4,
 "nbformat_minor": 4
}
