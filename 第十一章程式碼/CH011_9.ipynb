{
 "cells": [
  {
   "cell_type": "code",
   "execution_count": 1,
   "metadata": {},
   "outputs": [
    {
     "name": "stdout",
     "output_type": "stream",
     "text": [
      "tf.Tensor(\n",
      "[[[[1.75 ]\n",
      "   [2.375]\n",
      "   [2.5  ]]\n",
      "\n",
      "  [[2.   ]\n",
      "   [2.125]\n",
      "   [3.625]]\n",
      "\n",
      "  [[3.25 ]\n",
      "   [3.5  ]\n",
      "   [4.5  ]]]], shape=(1, 3, 3, 1), dtype=float32)\n"
     ]
    }
   ],
   "source": [
    "import tensorflow as tf\n",
    "# 定義一個 feature_map\n",
    "feature_map = tf.constant([\n",
    "     [0.0,4.0,3.0,2.5],\n",
    "     [2.0,1.0,1.5,3.0],\n",
    "     [3.0,2.0,4.0,6.0],\n",
    "     [2.0,6.0,2.0,6.0]])\n",
    "# 在 dim = 0 插入一個維度\n",
    "feature_map = tf.expand_dims(feature_map,0)\n",
    "# 在 dim = 3 插入一個維度 =>目的要讓他變成　(1,4,4,1)\n",
    "feature_map = tf.expand_dims(feature_map,-1)\n",
    "\n",
    "## 定義池化層\n",
    "## 池化窗口2*2，高寬方向步長都為 1\n",
    "pooling = tf.nn.avg_pool(input = feature_map,\n",
    "                         ksize = [1,2,2,1],\n",
    "                         strides = [1,1,1,1],\n",
    "                         padding='VALID')\n",
    "print(pooling)"
   ]
  },
  {
   "cell_type": "code",
   "execution_count": null,
   "metadata": {},
   "outputs": [],
   "source": []
  }
 ],
 "metadata": {
  "kernelspec": {
   "display_name": "Python [conda env:Tensorflow2_GPU]",
   "language": "python",
   "name": "conda-env-Tensorflow2_GPU-py"
  },
  "language_info": {
   "codemirror_mode": {
    "name": "ipython",
    "version": 3
   },
   "file_extension": ".py",
   "mimetype": "text/x-python",
   "name": "python",
   "nbconvert_exporter": "python",
   "pygments_lexer": "ipython3",
   "version": "3.8.5"
  }
 },
 "nbformat": 4,
 "nbformat_minor": 4
}
