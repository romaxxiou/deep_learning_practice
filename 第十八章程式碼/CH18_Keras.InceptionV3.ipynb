{
 "cells": [
  {
   "cell_type": "code",
   "execution_count": 3,
   "metadata": {},
   "outputs": [
    {
     "name": "stdout",
     "output_type": "stream",
     "text": [
      "Downloading data from https://storage.googleapis.com/tensorflow/keras-applications/inception_v3/inception_v3_weights_tf_dim_ordering_tf_kernels.h5\n",
      "96116736/96112376 [==============================] - 10s 0us/step\n",
      "x.shape:  (299, 299, 3)\n",
      "img.shape:  (1, 299, 299, 3)\n",
      "koala (91.51%)\n"
     ]
    }
   ],
   "source": [
    "from tensorflow.keras.preprocessing.image import img_to_array\n",
    "from tensorflow.keras.preprocessing.image import load_img\n",
    "from tensorflow.keras.applications.inception_v3 import InceptionV3\n",
    "from tensorflow.keras.applications.inception_v3 import preprocess_input\n",
    "from tensorflow.keras.applications.inception_v3 import decode_predictions\n",
    "\n",
    "# 建立 InceptionV3 模型\n",
    "model = InceptionV3(weights=\"imagenet\", include_top=True) \n",
    "# 載入測試圖片\n",
    "img = load_img(\"koala.png\", target_size=(299, 299))\n",
    "x = img_to_array(img)    # 轉換成 Numpy陣列\n",
    "print(\"x.shape: \", x.shape)\n",
    "# Reshape (1, 299, 299, 3)\n",
    "img = x.reshape((1, x.shape[0], x.shape[1], x.shape[2]))\n",
    "# 資料預處理\n",
    "img = preprocess_input(img)\n",
    "print(\"img.shape: \", img.shape)\n",
    "# 使用模型進行預測\n",
    "Y_pred = model.predict(img)\n",
    "# 解碼預測結果\n",
    "label = decode_predictions(Y_pred)\n",
    "result = label[0][0]  # 取得最可能的結果\n",
    "print(\"%s (%.2f%%)\" % (result[1], result[2]*100))"
   ]
  },
  {
   "cell_type": "code",
   "execution_count": null,
   "metadata": {},
   "outputs": [],
   "source": []
  }
 ],
 "metadata": {
  "kernelspec": {
   "display_name": "Python [conda env:Tensorflow2_GPU]",
   "language": "python",
   "name": "conda-env-Tensorflow2_GPU-py"
  },
  "language_info": {
   "codemirror_mode": {
    "name": "ipython",
    "version": 3
   },
   "file_extension": ".py",
   "mimetype": "text/x-python",
   "name": "python",
   "nbconvert_exporter": "python",
   "pygments_lexer": "ipython3",
   "version": "3.8.5"
  }
 },
 "nbformat": 4,
 "nbformat_minor": 4
}
