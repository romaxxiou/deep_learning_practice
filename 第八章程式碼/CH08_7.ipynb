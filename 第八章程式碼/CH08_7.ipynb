{
 "cells": [
  {
   "cell_type": "code",
   "execution_count": 5,
   "metadata": {
    "scrolled": true
   },
   "outputs": [
    {
     "name": "stdout",
     "output_type": "stream",
     "text": [
      "loaded model from Fashion_model.h5\n",
      "Epoch 1/10\n",
      "375/375 - 1s - loss: 0.0296 - accuracy: 0.9890 - val_loss: 0.7752 - val_accuracy: 0.8957\n",
      "Epoch 2/10\n",
      "375/375 - 1s - loss: 0.0304 - accuracy: 0.9889 - val_loss: 0.7797 - val_accuracy: 0.8965\n",
      "Epoch 3/10\n",
      "375/375 - 1s - loss: 0.0328 - accuracy: 0.9882 - val_loss: 0.7599 - val_accuracy: 0.8958\n",
      "Epoch 4/10\n",
      "375/375 - 1s - loss: 0.0282 - accuracy: 0.9896 - val_loss: 0.8105 - val_accuracy: 0.8917\n",
      "Epoch 5/10\n",
      "375/375 - 1s - loss: 0.0380 - accuracy: 0.9869 - val_loss: 0.8325 - val_accuracy: 0.8909\n",
      "Epoch 6/10\n",
      "375/375 - 1s - loss: 0.0331 - accuracy: 0.9877 - val_loss: 0.8758 - val_accuracy: 0.8925\n",
      "Epoch 7/10\n",
      "375/375 - 1s - loss: 0.0222 - accuracy: 0.9924 - val_loss: 0.8228 - val_accuracy: 0.8883\n",
      "Epoch 8/10\n",
      "375/375 - 1s - loss: 0.0241 - accuracy: 0.9915 - val_loss: 0.8783 - val_accuracy: 0.8934\n",
      "Epoch 9/10\n",
      "375/375 - 1s - loss: 0.0411 - accuracy: 0.9865 - val_loss: 0.7773 - val_accuracy: 0.8948\n",
      "Epoch 10/10\n",
      "375/375 - 1s - loss: 0.0255 - accuracy: 0.9905 - val_loss: 0.8480 - val_accuracy: 0.8908\n"
     ]
    },
    {
     "data": {
      "text/plain": [
       "<tensorflow.python.keras.callbacks.History at 0x1fddf3bcd00>"
      ]
     },
     "execution_count": 5,
     "metadata": {},
     "output_type": "execute_result"
    }
   ],
   "source": [
    "import tensorflow as tf\n",
    "\n",
    "(train_image,train_label),(test_image,test_label)=\\\n",
    "    tf.keras.datasets.fashion_mnist.load_data()\n",
    "# 對資料集做一個前置處理, 將資料正規到 0~1 之間\n",
    "def preprocess(x, y):\n",
    "    x = tf.cast(x, dtype=tf.float32) / 255.\n",
    "    y = tf.cast(y, dtype=tf.int32)\n",
    "    return x,y\n",
    "train_image, train_label = preprocess(train_image, train_label)\n",
    "# 載入模型\n",
    "print('loaded model from Fashion_model.h5')\n",
    "ReloadModel = tf.keras.models.load_model('Fashion_model.h5')\n",
    "batchsz = 128  # 設定批次大小\n",
    "ReloadModel.fit(train_image, train_label,epochs=10,\n",
    "                batch_size = batchsz,   # 設定批次訓練大小\n",
    "                validation_split = 0.2,    # 劃分資料集的 20% 作為驗證集用\n",
    "                verbose = 2)"
   ]
  },
  {
   "cell_type": "code",
   "execution_count": null,
   "metadata": {},
   "outputs": [],
   "source": []
  }
 ],
 "metadata": {
  "kernelspec": {
   "display_name": "Python [conda env:pai] *",
   "language": "python",
   "name": "conda-env-pai-py"
  },
  "language_info": {
   "codemirror_mode": {
    "name": "ipython",
    "version": 3
   },
   "file_extension": ".py",
   "mimetype": "text/x-python",
   "name": "python",
   "nbconvert_exporter": "python",
   "pygments_lexer": "ipython3",
   "version": "3.9.13"
  }
 },
 "nbformat": 4,
 "nbformat_minor": 4
}
