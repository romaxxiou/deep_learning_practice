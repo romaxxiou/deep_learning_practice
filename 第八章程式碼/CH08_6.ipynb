{
 "cells": [
  {
   "cell_type": "code",
   "execution_count": 3,
   "metadata": {},
   "outputs": [
    {
     "name": "stdout",
     "output_type": "stream",
     "text": [
      "loaded model from Fashion_model.h5\n",
      "1/1 [==============================] - 0s 45ms/step\n",
      "Predicted labels: tf.Tensor([9 2 1 1 6 1 4 6 5 7 4 5 5 3 2], shape=(15,), dtype=int64)\n",
      "test labels     : tf.Tensor([9 2 1 1 6 1 4 6 5 7 4 5 7 3 4], shape=(15,), dtype=int32)\n"
     ]
    },
    {
     "name": "stderr",
     "output_type": "stream",
     "text": [
      "2022-10-21 15:55:38.340717: I tensorflow/core/grappler/optimizers/custom_graph_optimizer_registry.cc:114] Plugin optimizer for device_type GPU is enabled.\n"
     ]
    }
   ],
   "source": [
    "import tensorflow as tf\n",
    "\n",
    "(train_image,train_label),(test_image,test_label)=\\\n",
    "    tf.keras.datasets.fashion_mnist.load_data()\n",
    "\n",
    "# 對資料集做一個前置處理, 將資料正規到 0~1 之間\n",
    "def preprocess(x, y):\n",
    "    x = tf.cast(x, dtype=tf.float32) / 255.\n",
    "    y = tf.cast(y, dtype=tf.int32)\n",
    "    return x,y\n",
    "\n",
    "# 載入模型\n",
    "print('loaded model from Fashion_model.h5')\n",
    "test_image, test_labels = preprocess(test_image, test_label)\n",
    "Model2 = tf.keras.models.load_model('Fashion_model.h5',compile=False)\n",
    "# 拿前十五筆資料來預測並印出標籤\n",
    "prediction = Model2.predict(test_image[:15])\n",
    "print(\"Predicted labels:\", tf.argmax(prediction,1))\n",
    "# 印出前十五筆資料的正確標籤\n",
    "print(\"test labels     :\",test_labels[:15])"
   ]
  },
  {
   "cell_type": "code",
   "execution_count": null,
   "metadata": {},
   "outputs": [],
   "source": []
  }
 ],
 "metadata": {
  "kernelspec": {
   "display_name": "Python [conda env:pai] *",
   "language": "python",
   "name": "conda-env-pai-py"
  },
  "language_info": {
   "codemirror_mode": {
    "name": "ipython",
    "version": 3
   },
   "file_extension": ".py",
   "mimetype": "text/x-python",
   "name": "python",
   "nbconvert_exporter": "python",
   "pygments_lexer": "ipython3",
   "version": "3.9.13"
  }
 },
 "nbformat": 4,
 "nbformat_minor": 4
}
