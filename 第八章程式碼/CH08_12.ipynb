{
 "cells": [
  {
   "cell_type": "code",
   "execution_count": 1,
   "metadata": {},
   "outputs": [
    {
     "name": "stdout",
     "output_type": "stream",
     "text": [
      "Epoch 1/20\n",
      "96/96 [==============================] - 4s 18ms/step - loss: 13.4985 - accuracy: 0.6352 - val_loss: 0.7447 - val_accuracy: 0.8753\n",
      "\n",
      "Epoch 00001: val_accuracy improved from -inf to 0.87533, saving model to weights.01-0.8753.h5\n",
      "Epoch 2/20\n",
      "96/96 [==============================] - 0s 4ms/step - loss: 0.5890 - accuracy: 0.8856 - val_loss: 0.4919 - val_accuracy: 0.8995\n",
      "\n",
      "Epoch 00002: val_accuracy improved from 0.87533 to 0.89950, saving model to weights.02-0.8995.h5\n",
      "Epoch 3/20\n",
      "96/96 [==============================] - 0s 4ms/step - loss: 0.3273 - accuracy: 0.9221 - val_loss: 0.3911 - val_accuracy: 0.9118\n",
      "\n",
      "Epoch 00003: val_accuracy improved from 0.89950 to 0.91183, saving model to weights.03-0.9118.h5\n",
      "Epoch 4/20\n",
      "96/96 [==============================] - 0s 3ms/step - loss: 0.2286 - accuracy: 0.9388 - val_loss: 0.3571 - val_accuracy: 0.9251\n",
      "\n",
      "Epoch 00004: val_accuracy improved from 0.91183 to 0.92508, saving model to weights.04-0.9251.h5\n",
      "Epoch 5/20\n",
      "96/96 [==============================] - 0s 3ms/step - loss: 0.1540 - accuracy: 0.9564 - val_loss: 0.3276 - val_accuracy: 0.9308\n",
      "\n",
      "Epoch 00005: val_accuracy improved from 0.92508 to 0.93075, saving model to weights.05-0.9308.h5\n",
      "Epoch 00005: early stopping\n",
      "313/313 - 1s - loss: 0.3310 - accuracy: 0.9298\n"
     ]
    },
    {
     "data": {
      "text/plain": [
       "[0.3310212790966034, 0.9297999739646912]"
      ]
     },
     "execution_count": 1,
     "metadata": {},
     "output_type": "execute_result"
    }
   ],
   "source": [
    "from tensorflow.keras.models import Sequential\n",
    "from tensorflow.keras import layers\n",
    "# 匯入Keras的mnist模組\n",
    "from tensorflow.keras.datasets import mnist\n",
    "(train_Data, train_Label), (test_Data, test_Label) = mnist.load_data()\n",
    "\n",
    "model = Sequential([\n",
    "    layers.Flatten(input_shape=(28, 28)),   # 將輸入資料從 28x28 攤平成 784\n",
    "    layers.Dense(256, activation='relu'),\n",
    "    layers.Dense(128, activation='relu'),\n",
    "    layers.Dense(64, activation='relu'),\n",
    "    layers.Dense(10, activation='softmax') # output 為 10 個 class\n",
    "])\n",
    "\n",
    "# model 每層定義好後需要經過 compile\n",
    "# sparse_categorical_crossentropy 的標籤是 integer\n",
    "model.compile(optimizer='adam',\n",
    "              loss='sparse_categorical_crossentropy',\n",
    "              metrics=['accuracy'])\n",
    "\n",
    "from tensorflow.keras.callbacks import ModelCheckpoint, EarlyStopping\n",
    "\n",
    "early_stopping = EarlyStopping(monitor='val_accuracy', min_delta=0.01,\n",
    "                               patience=0,verbose=1)\n",
    "model_checkpoint = ModelCheckpoint(filepath='weights.{epoch:02d}-{val_accuracy:.4f}.h5',\n",
    "                                  monitor='val_accuracy',save_best_only=True,verbose=1)\n",
    "\n",
    "# 將建立好的 model 去 fit 我們的 training data\n",
    "history = model.fit(train_Data, train_Label, \n",
    "                    epochs=20, batch_size=500,\n",
    "                    validation_split=0.2,\n",
    "                    callbacks=[early_stopping, model_checkpoint])  # 添加 callback\n",
    "# 利用 test_Data 去進行模型評估\n",
    "# verbose = 2 為每個 epoch 輸出一行紀錄\n",
    "model.evaluate(test_Data, test_Label, verbose=2)"
   ]
  },
  {
   "cell_type": "code",
   "execution_count": null,
   "metadata": {},
   "outputs": [],
   "source": []
  }
 ],
 "metadata": {
  "kernelspec": {
   "display_name": "Python [conda env:Tensorflow2_GPU]",
   "language": "python",
   "name": "conda-env-Tensorflow2_GPU-py"
  },
  "language_info": {
   "codemirror_mode": {
    "name": "ipython",
    "version": 3
   },
   "file_extension": ".py",
   "mimetype": "text/x-python",
   "name": "python",
   "nbconvert_exporter": "python",
   "pygments_lexer": "ipython3",
   "version": "3.8.5"
  }
 },
 "nbformat": 4,
 "nbformat_minor": 4
}
