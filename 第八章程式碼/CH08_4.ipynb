{
 "cells": [
  {
   "cell_type": "code",
   "execution_count": 1,
   "metadata": {},
   "outputs": [
    {
     "name": "stdout",
     "output_type": "stream",
     "text": [
      "Metal device set to: Apple M1\n"
     ]
    },
    {
     "name": "stderr",
     "output_type": "stream",
     "text": [
      "2022-10-21 14:58:41.782099: I tensorflow/core/common_runtime/pluggable_device/pluggable_device_factory.cc:306] Could not identify NUMA node of platform GPU ID 0, defaulting to 0. Your kernel may not have been built with NUMA support.\n",
      "2022-10-21 14:58:41.782258: I tensorflow/core/common_runtime/pluggable_device/pluggable_device_factory.cc:272] Created TensorFlow device (/job:localhost/replica:0/task:0/device:GPU:0 with 0 MB memory) -> physical PluggableDevice (device: 0, name: METAL, pci bus id: <undefined>)\n"
     ]
    }
   ],
   "source": [
    "from tensorflow.keras.models import Sequential\n",
    "from tensorflow.keras import layers\n",
    "from tensorflow.keras import metrics\n",
    "from tensorflow.keras.callbacks import EarlyStopping\n",
    "\n",
    "# 匯入Keras 的 mnist模組\n",
    "from tensorflow.keras.datasets import mnist\n",
    "(train_Data, train_Label), (test_Data, test_Label) = mnist.load_data()\n",
    "\n",
    "model = Sequential([\n",
    "    layers.Flatten(input_shape=(28, 28)),   # 將輸入資料從 28x28 攤平成 784\n",
    "    layers.Dense(256, activation='relu'),\n",
    "    layers.Dense(128, activation='relu'),\n",
    "    layers.Dense(64, activation='relu'),\n",
    "    layers.Dense(10, activation='softmax') # output 為 10 個 class\n",
    "])\n"
   ]
  },
  {
   "cell_type": "code",
   "execution_count": 2,
   "metadata": {},
   "outputs": [],
   "source": [
    "# 定義訓練的步驟數目\n",
    "NUM_EPOCHS = 100\n",
    "# model 每層定義好後需要經過 compile\n",
    "model.compile(optimizer='adam',\n",
    "              loss= 'sparse_categorical_crossentropy',\n",
    "              metrics=['acc',metrics.mse,\n",
    "                       metrics.sparse_top_k_categorical_accuracy])"
   ]
  },
  {
   "cell_type": "code",
   "execution_count": 4,
   "metadata": {
    "scrolled": true,
    "tags": []
   },
   "outputs": [
    {
     "name": "stdout",
     "output_type": "stream",
     "text": [
      "Epoch 1/100\n",
      "1500/1500 [==============================] - 18s 12ms/step - loss: 0.1046 - acc: 0.9703 - mean_squared_error: 27.3771 - sparse_top_k_categorical_accuracy: 0.9985 - val_loss: 0.1430 - val_acc: 0.9655 - val_mean_squared_error: 27.4447 - val_sparse_top_k_categorical_accuracy: 0.9972\n",
      "Epoch 2/100\n",
      "1500/1500 [==============================] - 18s 12ms/step - loss: 0.0992 - acc: 0.9717 - mean_squared_error: 27.3776 - sparse_top_k_categorical_accuracy: 0.9987 - val_loss: 0.1522 - val_acc: 0.9647 - val_mean_squared_error: 27.4445 - val_sparse_top_k_categorical_accuracy: 0.9965\n",
      "Epoch 2: early stopping\n",
      "313/313 - 2s - loss: 0.1258 - acc: 0.9679 - mean_squared_error: 27.3369 - sparse_top_k_categorical_accuracy: 0.9974 - 2s/epoch - 7ms/step\n"
     ]
    },
    {
     "data": {
      "text/plain": [
       "[0.12582385540008545,\n",
       " 0.9679000377655029,\n",
       " 27.336894989013672,\n",
       " 0.9974000453948975]"
      ]
     },
     "execution_count": 4,
     "metadata": {},
     "output_type": "execute_result"
    }
   ],
   "source": [
    "# 定義 tf.keras.EarlyStopping 回調函數,\n",
    "# 並指名監控的對象 => val_sparse_top_k_categorical_accuracy\n",
    "earlystop_callback = EarlyStopping(\n",
    "  monitor='val_sparse_top_k_categorical_accuracy', min_delta=0.001,\n",
    "  patience=1, verbose=1, mode='auto')\n",
    "\n",
    "\n",
    "# 將建立好的 model 去 fit 我們的 training data\n",
    "model.fit(train_Data, train_Label,\n",
    "          validation_split = 0.2,    # 劃分資料集的 20% 作為驗證集用\n",
    "          epochs=NUM_EPOCHS,callbacks=[earlystop_callback],)\n",
    "# 利用 test_Data 去進行模型評估\n",
    "# verbose = 2 為每個 epoch 輸出一行紀錄\n",
    "model.evaluate(test_Data, test_Label, verbose=2)"
   ]
  },
  {
   "cell_type": "code",
   "execution_count": null,
   "metadata": {},
   "outputs": [],
   "source": []
  }
 ],
 "metadata": {
  "kernelspec": {
   "display_name": "Python [conda env:pai] *",
   "language": "python",
   "name": "conda-env-pai-py"
  },
  "language_info": {
   "codemirror_mode": {
    "name": "ipython",
    "version": 3
   },
   "file_extension": ".py",
   "mimetype": "text/x-python",
   "name": "python",
   "nbconvert_exporter": "python",
   "pygments_lexer": "ipython3",
   "version": "3.9.13"
  }
 },
 "nbformat": 4,
 "nbformat_minor": 4
}
