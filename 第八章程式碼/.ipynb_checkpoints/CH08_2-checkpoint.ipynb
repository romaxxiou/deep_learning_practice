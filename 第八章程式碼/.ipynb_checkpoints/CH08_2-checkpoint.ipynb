{
 "cells": [
  {
   "cell_type": "code",
   "execution_count": 2,
   "metadata": {},
   "outputs": [
    {
     "name": "stdout",
     "output_type": "stream",
     "text": [
      "Epoch 1/10\n",
      "1875/1875 [==============================] - 9s 3ms/step - loss: 2.5600 - acc: 0.8259 - mse: 27.2892 - sparse_categorical_crossentropy: 2.5600\n",
      "Epoch 2/10\n",
      "1875/1875 [==============================] - 5s 3ms/step - loss: 0.2025 - acc: 0.9437 - mse: 27.4043 - sparse_categorical_crossentropy: 0.2025\n",
      "Epoch 3/10\n",
      "1875/1875 [==============================] - 5s 3ms/step - loss: 0.1560 - acc: 0.9548 - mse: 27.4394 - sparse_categorical_crossentropy: 0.1560\n",
      "Epoch 4/10\n",
      "1875/1875 [==============================] - 5s 3ms/step - loss: 0.1240 - acc: 0.9645 - mse: 27.3660 - sparse_categorical_crossentropy: 0.1240\n",
      "Epoch 5/10\n",
      "1875/1875 [==============================] - 5s 3ms/step - loss: 0.1057 - acc: 0.9687 - mse: 27.6344 - sparse_categorical_crossentropy: 0.1057: 1s - loss: 0.1043 - acc: 0.9691 - mse:\n",
      "Epoch 6/10\n",
      "1875/1875 [==============================] - 5s 3ms/step - loss: 0.0909 - acc: 0.9733 - mse: 27.2662 - sparse_categorical_crossentropy: 0.0909\n",
      "Epoch 7/10\n",
      "1875/1875 [==============================] - 5s 3ms/step - loss: 0.0751 - acc: 0.9777 - mse: 27.4845 - sparse_categorical_crossentropy: 0.0751\n",
      "Epoch 8/10\n",
      "1875/1875 [==============================] - 5s 3ms/step - loss: 0.0733 - acc: 0.9785 - mse: 27.3125 - sparse_categorical_crossentropy: 0.0733: 0s - loss: 0.0727 - acc: 0.9785 - mse: 27.2936 - sparse_ca\n",
      "Epoch 9/10\n",
      "1875/1875 [==============================] - 5s 3ms/step - loss: 0.0667 - acc: 0.9817 - mse: 27.3907 - sparse_categorical_crossentropy: 0.0667\n",
      "Epoch 10/10\n",
      "1875/1875 [==============================] - 5s 3ms/step - loss: 0.0537 - acc: 0.9845 - mse: 27.3673 - sparse_categorical_crossentropy: 0.0537\n",
      "313/313 - 1s - loss: 0.1714 - acc: 0.9687 - mse: 27.3379 - sparse_categorical_crossentropy: 0.1714\n"
     ]
    },
    {
     "data": {
      "text/plain": [
       "[0.17137973010540009,\n",
       " 0.9686999917030334,\n",
       " 27.337934494018555,\n",
       " 0.17137973010540009]"
      ]
     },
     "execution_count": 2,
     "metadata": {},
     "output_type": "execute_result"
    }
   ],
   "source": [
    "from tensorflow.keras.models import Sequential\n",
    "from tensorflow.keras import layers\n",
    "# 匯入Keras的mnist模組\n",
    "from tensorflow.keras.datasets import mnist\n",
    "(train_Data, train_Label), (test_Data, test_Label) = mnist.load_data()\n",
    "\n",
    "model = Sequential([\n",
    "    layers.Flatten(input_shape=(28, 28)),   # 將輸入資料從 28x28 攤平成 784\n",
    "    layers.Dense(256, activation='relu'),\n",
    "    layers.Dense(128, activation='relu'),\n",
    "    layers.Dense(64, activation='relu'),\n",
    "    layers.Dense(10, activation='softmax') # output 為 10 個 class\n",
    "])\n",
    "\n",
    "from tensorflow.keras import metrics\n",
    "# model 每層定義好後需要經過 compile\n",
    "# sparse_categorical_crossentropy 的標籤是 integer\n",
    "model.compile(optimizer='adam',\n",
    "              loss='sparse_categorical_crossentropy',\n",
    "              metrics=['acc','mse',metrics.sparse_categorical_crossentropy])\n",
    "\n",
    "# 將建立好的 model 去 fit 我們的 training data\n",
    "model.fit(train_Data, train_Label, epochs=10)\n",
    "# 利用 test_Data 去進行模型評估\n",
    "# verbose = 2 為每個 epoch 輸出一行紀錄\n",
    "model.evaluate(test_Data, test_Label, verbose=2)"
   ]
  },
  {
   "cell_type": "code",
   "execution_count": null,
   "metadata": {},
   "outputs": [],
   "source": []
  }
 ],
 "metadata": {
  "kernelspec": {
   "display_name": "Python [conda env:Tensorflow2_GPU]",
   "language": "python",
   "name": "conda-env-Tensorflow2_GPU-py"
  },
  "language_info": {
   "codemirror_mode": {
    "name": "ipython",
    "version": 3
   },
   "file_extension": ".py",
   "mimetype": "text/x-python",
   "name": "python",
   "nbconvert_exporter": "python",
   "pygments_lexer": "ipython3",
   "version": "3.8.5"
  }
 },
 "nbformat": 4,
 "nbformat_minor": 4
}
