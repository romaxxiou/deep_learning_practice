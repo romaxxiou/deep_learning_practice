{
 "cells": [
  {
   "cell_type": "code",
   "execution_count": 1,
   "metadata": {},
   "outputs": [],
   "source": [
    "from tensorflow.keras.models import Sequential\n",
    "from tensorflow.keras import layers\n",
    "from tensorflow.keras import metrics\n",
    "from tensorflow.keras.callbacks import EarlyStopping\n",
    "\n",
    "# 匯入Keras 的 mnist模組\n",
    "from tensorflow.keras.datasets import mnist\n",
    "(train_Data, train_Label), (test_Data, test_Label) = mnist.load_data()\n",
    "\n",
    "model = Sequential([\n",
    "    layers.Flatten(input_shape=(28, 28)),   # 將輸入資料從 28x28 攤平成 784\n",
    "    layers.Dense(256, activation='relu'),\n",
    "    layers.Dense(128, activation='relu'),\n",
    "    layers.Dense(64, activation='relu'),\n",
    "    layers.Dense(10, activation='softmax') # output 為 10 個 class\n",
    "])\n"
   ]
  },
  {
   "cell_type": "code",
   "execution_count": 2,
   "metadata": {},
   "outputs": [],
   "source": [
    "# 定義訓練的步驟數目\n",
    "NUM_EPOCHS = 100\n",
    "# model 每層定義好後需要經過 compile\n",
    "model.compile(optimizer='adam',\n",
    "              loss= 'sparse_categorical_crossentropy',\n",
    "              metrics=['acc',metrics.mse,\n",
    "                       metrics.sparse_top_k_categorical_accuracy])"
   ]
  },
  {
   "cell_type": "code",
   "execution_count": 3,
   "metadata": {},
   "outputs": [
    {
     "name": "stdout",
     "output_type": "stream",
     "text": [
      "Epoch 1/100\n",
      "1500/1500 [==============================] - 10s 4ms/step - loss: 2.8300 - acc: 0.7933 - mean_squared_error: 27.4419 - sparse_top_k_categorical_accuracy: 0.9646 - val_loss: 0.3608 - val_acc: 0.9189 - val_mean_squared_error: 27.4403 - val_sparse_top_k_categorical_accuracy: 0.9879\n",
      "Epoch 2/100\n",
      "1500/1500 [==============================] - 5s 4ms/step - loss: 0.2697 - acc: 0.9270 - mean_squared_error: 27.2985 - sparse_top_k_categorical_accuracy: 0.9908 - val_loss: 0.1985 - val_acc: 0.9499 - val_mean_squared_error: 27.4417 - val_sparse_top_k_categorical_accuracy: 0.9945\n",
      "Epoch 3/100\n",
      "1500/1500 [==============================] - 5s 3ms/step - loss: 0.1838 - acc: 0.9484 - mean_squared_error: 27.2745 - sparse_top_k_categorical_accuracy: 0.9941 - val_loss: 0.1996 - val_acc: 0.9495 - val_mean_squared_error: 27.4425 - val_sparse_top_k_categorical_accuracy: 0.9938\n",
      "Epoch 00003: early stopping\n",
      "313/313 - 1s - loss: 0.1888 - acc: 0.9500 - mean_squared_error: 27.3348 - sparse_top_k_categorical_accuracy: 0.9963\n"
     ]
    },
    {
     "data": {
      "text/plain": [
       "[0.18877248466014862,\n",
       " 0.949999988079071,\n",
       " 27.334787368774414,\n",
       " 0.9962999820709229]"
      ]
     },
     "execution_count": 3,
     "metadata": {},
     "output_type": "execute_result"
    }
   ],
   "source": [
    "# 定義 tf.keras.EarlyStopping 回調函數,\n",
    "# 並指名監控的對象 => val_sparse_top_k_categorical_accuracy\n",
    "earlystop_callback = EarlyStopping(\n",
    "  monitor='val_sparse_top_k_categorical_accuracy', min_delta=0.001,\n",
    "  patience=1, verbose=1, mode='auto')\n",
    "\n",
    "# 將建立好的 model 去 fit 我們的 training data\n",
    "model.fit(train_Data, train_Label,\n",
    "          validation_split = 0.2,    # 劃分資料集的 20% 作為驗證集用\n",
    "          epochs=NUM_EPOCHS,callbacks=[earlystop_callback],)\n",
    "# 利用 test_Data 去進行模型評估\n",
    "# verbose = 2 為每個 epoch 輸出一行紀錄\n",
    "model.evaluate(test_Data, test_Label, verbose=2)"
   ]
  },
  {
   "cell_type": "code",
   "execution_count": null,
   "metadata": {},
   "outputs": [],
   "source": []
  }
 ],
 "metadata": {
  "kernelspec": {
   "display_name": "Python [conda env:Tensorflow2_GPU]",
   "language": "python",
   "name": "conda-env-Tensorflow2_GPU-py"
  },
  "language_info": {
   "codemirror_mode": {
    "name": "ipython",
    "version": 3
   },
   "file_extension": ".py",
   "mimetype": "text/x-python",
   "name": "python",
   "nbconvert_exporter": "python",
   "pygments_lexer": "ipython3",
   "version": "3.8.5"
  }
 },
 "nbformat": 4,
 "nbformat_minor": 4
}
