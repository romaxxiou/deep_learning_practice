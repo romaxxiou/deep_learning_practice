{
 "cells": [
  {
   "cell_type": "code",
   "execution_count": 1,
   "metadata": {},
   "outputs": [
    {
     "name": "stdout",
     "output_type": "stream",
     "text": [
      "Epoch 1/10\n",
      "1875/1875 [==============================] - 7s 2ms/step - loss: 2.4208 - accuracy: 0.8294\n",
      "Epoch 2/10\n",
      "1875/1875 [==============================] - 4s 2ms/step - loss: 0.2056 - accuracy: 0.9433\n",
      "Epoch 3/10\n",
      "1875/1875 [==============================] - 5s 2ms/step - loss: 0.1576 - accuracy: 0.9548\n",
      "Epoch 4/10\n",
      "1875/1875 [==============================] - 4s 2ms/step - loss: 0.1237 - accuracy: 0.9636\n",
      "Epoch 5/10\n",
      "1875/1875 [==============================] - 4s 2ms/step - loss: 0.1143 - accuracy: 0.9676\n",
      "Epoch 6/10\n",
      "1875/1875 [==============================] - 4s 2ms/step - loss: 0.0850 - accuracy: 0.9752\n",
      "Epoch 7/10\n",
      "1875/1875 [==============================] - 4s 2ms/step - loss: 0.0792 - accuracy: 0.9771\n",
      "Epoch 8/10\n",
      "1875/1875 [==============================] - 4s 2ms/step - loss: 0.0678 - accuracy: 0.9799\n",
      "Epoch 9/10\n",
      "1875/1875 [==============================] - 4s 2ms/step - loss: 0.0617 - accuracy: 0.9820\n",
      "Epoch 10/10\n",
      "1875/1875 [==============================] - 4s 2ms/step - loss: 0.0578 - accuracy: 0.9836\n",
      "313/313 - 1s - loss: 0.1322 - accuracy: 0.9718\n"
     ]
    },
    {
     "data": {
      "text/plain": [
       "[0.13219678401947021, 0.9718000292778015]"
      ]
     },
     "execution_count": 1,
     "metadata": {},
     "output_type": "execute_result"
    }
   ],
   "source": [
    "from tensorflow.keras.models import Sequential\n",
    "from tensorflow.keras import layers\n",
    "# 匯入Keras的mnist模組\n",
    "from tensorflow.keras.datasets import mnist\n",
    "(train_Data, train_Label), (test_Data, test_Label) = mnist.load_data()\n",
    "\n",
    "model = Sequential([\n",
    "    layers.Flatten(input_shape=(28, 28)),   # 將輸入資料從 28x28 攤平成 784\n",
    "    layers.Dense(256, activation='relu'),\n",
    "    layers.Dense(128, activation='relu'),\n",
    "    layers.Dense(64, activation='relu'),\n",
    "    layers.Dense(10, activation='softmax') # output 為 10 個 class\n",
    "])\n",
    "\n",
    "# model 每層定義好後需要經過 compile\n",
    "# sparse_categorical_crossentropy 的標籤是 integer\n",
    "model.compile(optimizer='adam',\n",
    "              loss='sparse_categorical_crossentropy',\n",
    "              metrics=['accuracy'])\n",
    "\n",
    "# 將建立好的 model 去 fit 我們的 training data\n",
    "model.fit(train_Data, train_Label, epochs=10)\n",
    "# 利用 test_Data 去進行模型評估\n",
    "# verbose = 2 為每個 epoch 輸出一行紀錄\n",
    "model.evaluate(test_Data, test_Label, verbose=2)"
   ]
  }
 ],
 "metadata": {
  "kernelspec": {
   "display_name": "Python [conda env:Tensorflow2_GPU]",
   "language": "python",
   "name": "conda-env-Tensorflow2_GPU-py"
  },
  "language_info": {
   "codemirror_mode": {
    "name": "ipython",
    "version": 3
   },
   "file_extension": ".py",
   "mimetype": "text/x-python",
   "name": "python",
   "nbconvert_exporter": "python",
   "pygments_lexer": "ipython3",
   "version": "3.8.5"
  }
 },
 "nbformat": 4,
 "nbformat_minor": 4
}
