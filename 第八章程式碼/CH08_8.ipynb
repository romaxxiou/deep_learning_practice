{
 "cells": [
  {
   "cell_type": "code",
   "execution_count": 3,
   "metadata": {},
   "outputs": [
    {
     "name": "stdout",
     "output_type": "stream",
     "text": [
      "loaded model from Fashion_model.h5\n",
      " 22/313 [=>............................] - ETA: 1s - loss: 0.8829 - accuracy: 0.8977"
     ]
    },
    {
     "name": "stderr",
     "output_type": "stream",
     "text": [
      "2022-10-21 16:05:21.125515: I tensorflow/core/grappler/optimizers/custom_graph_optimizer_registry.cc:114] Plugin optimizer for device_type GPU is enabled.\n"
     ]
    },
    {
     "name": "stdout",
     "output_type": "stream",
     "text": [
      "313/313 [==============================] - 2s 5ms/step - loss: 0.9939 - accuracy: 0.8834\n",
      "\n",
      " test loss :  0.9938682317733765\n",
      "\n",
      " test accuracy :  0.883400022983551\n"
     ]
    }
   ],
   "source": [
    "import tensorflow as tf\n",
    "\n",
    "(train_image,train_label),(test_image,test_label)=\\\n",
    "    tf.keras.datasets.fashion_mnist.load_data()\n",
    "# 對資料集做一個前置處理, 將資料正規到 0~1 之間\n",
    "def preprocess(x, y):\n",
    "    x = tf.cast(x, dtype=tf.float32) / 255.\n",
    "    y = tf.cast(y, dtype=tf.int32)\n",
    "    return x,y\n",
    "test_images, test_labels = preprocess(test_image, test_label)\n",
    "# 載入模型\n",
    "print('loaded model from Fashion_model.h5')\n",
    "ReloadModel = tf.keras.models.load_model('Fashion_model.h5')\n",
    "loss,accuracy = ReloadModel.evaluate(test_images,test_labels)\n",
    "# 列印損失值與正確率\n",
    "print(\"\\n test loss : \", loss)\n",
    "print(\"\\n test accuracy : \", accuracy)"
   ]
  },
  {
   "cell_type": "code",
   "execution_count": null,
   "metadata": {},
   "outputs": [],
   "source": []
  }
 ],
 "metadata": {
  "kernelspec": {
   "display_name": "Python [conda env:pai] *",
   "language": "python",
   "name": "conda-env-pai-py"
  },
  "language_info": {
   "codemirror_mode": {
    "name": "ipython",
    "version": 3
   },
   "file_extension": ".py",
   "mimetype": "text/x-python",
   "name": "python",
   "nbconvert_exporter": "python",
   "pygments_lexer": "ipython3",
   "version": "3.9.13"
  }
 },
 "nbformat": 4,
 "nbformat_minor": 4
}
