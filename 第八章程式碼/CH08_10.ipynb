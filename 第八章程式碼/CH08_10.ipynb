{
 "cells": [
  {
   "cell_type": "code",
   "execution_count": 28,
   "metadata": {
    "scrolled": true
   },
   "outputs": [
    {
     "name": "stdout",
     "output_type": "stream",
     "text": [
      "Epoch 1/10\n",
      "1875/1875 [==============================] - 5s 3ms/step - loss: 3.1313 - accuracy: 0.8323\n",
      "Epoch 2/10\n",
      "1875/1875 [==============================] - 5s 3ms/step - loss: 0.2095 - accuracy: 0.9440\n",
      "Epoch 3/10\n",
      "1875/1875 [==============================] - 5s 3ms/step - loss: 0.1550 - accuracy: 0.9561\n",
      "Epoch 4/10\n",
      "1875/1875 [==============================] - 5s 3ms/step - loss: 0.1227 - accuracy: 0.9633\n",
      "Epoch 5/10\n",
      "1875/1875 [==============================] - 4s 2ms/step - loss: 0.1082 - accuracy: 0.9680\n",
      "Epoch 6/10\n",
      "1875/1875 [==============================] - 5s 3ms/step - loss: 0.0857 - accuracy: 0.9745\n",
      "Epoch 7/10\n",
      "1875/1875 [==============================] - 5s 2ms/step - loss: 0.0825 - accuracy: 0.9763\n",
      "Epoch 8/10\n",
      "1875/1875 [==============================] - 5s 2ms/step - loss: 0.0722 - accuracy: 0.9795\n",
      "Epoch 9/10\n",
      "1875/1875 [==============================] - 5s 2ms/step - loss: 0.0704 - accuracy: 0.9807\n",
      "Epoch 10/10\n",
      "1875/1875 [==============================] - 5s 3ms/step - loss: 0.0619 - accuracy: 0.9833\n",
      "313/313 - 1s - loss: 0.1310 - accuracy: 0.9719\n"
     ]
    },
    {
     "data": {
      "text/plain": [
       "[0.1310030072927475, 0.9718999862670898]"
      ]
     },
     "execution_count": 28,
     "metadata": {},
     "output_type": "execute_result"
    }
   ],
   "source": [
    "from tensorflow.keras.models import Sequential\n",
    "from tensorflow.keras import layers\n",
    "# 匯入Keras的mnist模組\n",
    "from tensorflow.keras.datasets import mnist\n",
    "(train_Data, train_Label), (test_Data, test_Label) = mnist.load_data()\n",
    "\n",
    "model = Sequential([\n",
    "    layers.Flatten(input_shape=(28, 28)),   # 將輸入資料從 28x28 攤平成 784\n",
    "    layers.Dense(256, activation='relu'),\n",
    "    layers.Dense(128, activation='relu'),\n",
    "    layers.Dense(64, activation='relu'),\n",
    "    layers.Dense(10, activation='softmax') # output 為 10 個 class\n",
    "])\n",
    "\n",
    "# model 每層定義好後需要經過 compile\n",
    "# sparse_categorical_crossentropy 的標籤是 integer\n",
    "model.compile(optimizer='adam',\n",
    "              loss='sparse_categorical_crossentropy',\n",
    "              metrics=['accuracy'])\n",
    "\n",
    "# 將建立好的 model 去 fit 我們的 training data\n",
    "model.fit(train_Data, train_Label, epochs=10)\n",
    "# 利用 test_Data 去進行模型評估\n",
    "# verbose = 2 為每個 epoch 輸出一行紀錄\n",
    "model.evaluate(test_Data, test_Label, verbose=2)"
   ]
  },
  {
   "cell_type": "code",
   "execution_count": 32,
   "metadata": {},
   "outputs": [
    {
     "name": "stdout",
     "output_type": "stream",
     "text": [
      "INFO:tensorflow:Assets written to: temp\\assets\n",
      "Save Model\n"
     ]
    }
   ],
   "source": [
    "import tensorflow as tf\n",
    "# 儲存網路至工作路徑底下的 temp 資料夾\n",
    "tf.saved_model.save(model,'temp')\n",
    "print('Save Model')\n",
    "# 刪除模型\n",
    "del model"
   ]
  },
  {
   "cell_type": "code",
   "execution_count": 33,
   "metadata": {
    "scrolled": true
   },
   "outputs": [
    {
     "name": "stdout",
     "output_type": "stream",
     "text": [
      "Load Model\n",
      "Test Accuracy :  tf.Tensor(0.9719, shape=(), dtype=float32)\n"
     ]
    }
   ],
   "source": [
    "print('Load Model')\n",
    "# 從 temp 資料夾底下載入模型\n",
    "# ModelNew = tf.saved_model.load('temp')   # 有問題\n",
    "ModelNew = tf.keras.models.load_model('temp')\n",
    "categorical_accuracy = tf.keras.metrics.SparseCategoricalAccuracy()\n",
    "# 輸入測試資料\n",
    "y_pred = ModelNew(test_Data)\n",
    "\n",
    "# 利用 update_state() 設定更新真實值與預測值的數據\n",
    "categorical_accuracy.update_state(y_true=test_Label, y_pred=y_pred)\n",
    "# 執行結果\n",
    "print(\"Test Accuracy : \",categorical_accuracy.result())"
   ]
  },
  {
   "cell_type": "code",
   "execution_count": null,
   "metadata": {},
   "outputs": [],
   "source": []
  }
 ],
 "metadata": {
  "kernelspec": {
   "display_name": "Python [conda env:pai] *",
   "language": "python",
   "name": "conda-env-pai-py"
  },
  "language_info": {
   "codemirror_mode": {
    "name": "ipython",
    "version": 3
   },
   "file_extension": ".py",
   "mimetype": "text/x-python",
   "name": "python",
   "nbconvert_exporter": "python",
   "pygments_lexer": "ipython3",
   "version": "3.9.13"
  }
 },
 "nbformat": 4,
 "nbformat_minor": 4
}
