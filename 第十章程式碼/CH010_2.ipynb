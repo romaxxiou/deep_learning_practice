{
 "cells": [
  {
   "cell_type": "code",
   "execution_count": 1,
   "metadata": {
    "scrolled": true
   },
   "outputs": [],
   "source": [
    "import tensorflow as tf\n",
    "import datetime\n",
    "from tensorflow.keras import datasets, layers, optimizers, Sequential ,metrics\n",
    "\n",
    "# 載入 fashion_mnist 資料 \n",
    "(x, y), (x_test, y_test) = datasets.fashion_mnist.load_data()\n",
    "\n",
    "# 創建一個路徑, 並利用格式化過的時間當作檔案名稱\n",
    "log_dir='.\\\\logs\\\\Imagelog\\\\'+ datetime.datetime.now().strftime(\"%Y%m%d-%H%M%S\")\n",
    "# (1)創建一個 summarywriter 紀錄器，將要紀錄的資料儲存到 \"./Imagelog\" 路徑中\n",
    "summarywriter = tf.summary.create_file_writer(log_dir)  \n",
    "images = tf.reshape(x, (-1, 28, 28, 1)) \n",
    "# (2) 選擇希望使用的記錄器\n",
    "with summarywriter.as_default(): \n",
    "    tf.summary.image('Training data', images, max_outputs=5, step=0) "
   ]
  },
  {
   "cell_type": "code",
   "execution_count": 2,
   "metadata": {
    "scrolled": false
   },
   "outputs": [
    {
     "data": {
      "text/plain": [
       "Reusing TensorBoard on port 6006 (pid 4444), started 23:50:10 ago. (Use '!kill 4444' to kill it.)"
      ]
     },
     "metadata": {},
     "output_type": "display_data"
    },
    {
     "data": {
      "text/html": [
       "\n",
       "      <iframe id=\"tensorboard-frame-5b3f651c388c2280\" width=\"100%\" height=\"800\" frameborder=\"0\">\n",
       "      </iframe>\n",
       "      <script>\n",
       "        (function() {\n",
       "          const frame = document.getElementById(\"tensorboard-frame-5b3f651c388c2280\");\n",
       "          const url = new URL(\"/\", window.location);\n",
       "          const port = 6006;\n",
       "          if (port) {\n",
       "            url.port = port;\n",
       "          }\n",
       "          frame.src = url;\n",
       "        })();\n",
       "      </script>\n",
       "    "
      ],
      "text/plain": [
       "<IPython.core.display.HTML object>"
      ]
     },
     "metadata": {},
     "output_type": "display_data"
    }
   ],
   "source": [
    "# 載入 TensorBoard notebook extension，即可在 jupyter notebook 啟動 Tensorboard\n",
    "%load_ext tensorboard\n",
    "# 啟動 Tensorboard\n",
    "%tensorboard --logdir logs/Imagelog"
   ]
  },
  {
   "cell_type": "code",
   "execution_count": null,
   "metadata": {},
   "outputs": [],
   "source": []
  }
 ],
 "metadata": {
  "kernelspec": {
   "display_name": "Python [conda env:Tensorflow2_GPU]",
   "language": "python",
   "name": "conda-env-Tensorflow2_GPU-py"
  },
  "language_info": {
   "codemirror_mode": {
    "name": "ipython",
    "version": 3
   },
   "file_extension": ".py",
   "mimetype": "text/x-python",
   "name": "python",
   "nbconvert_exporter": "python",
   "pygments_lexer": "ipython3",
   "version": "3.8.5"
  }
 },
 "nbformat": 4,
 "nbformat_minor": 4
}
