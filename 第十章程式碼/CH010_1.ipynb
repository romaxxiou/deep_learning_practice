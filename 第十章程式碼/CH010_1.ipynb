{
 "cells": [
  {
   "cell_type": "code",
   "execution_count": 1,
   "metadata": {},
   "outputs": [],
   "source": [
    "import tensorflow as tf\n",
    "import datetime\n",
    "from tensorflow.keras import datasets, losses, layers, optimizers, metrics, Sequential \n",
    "\n",
    "# 定義前處理函數\n",
    "def preprocess(x, y):\n",
    "    x = tf.cast(x, dtype=tf.float32) / 255.\n",
    "    y = tf.cast(y, dtype=tf.int32)\n",
    "    return x, y\n",
    "\n",
    "# 載入 fashion_mnist 資料 \n",
    "(x, y), (x_test, y_test) = datasets.fashion_mnist.load_data()\n",
    "\n",
    "train_data_norm, train_label = preprocess(x,y)\n",
    "test_data_norm, test_label = preprocess(x_test,y_test)\n",
    "\n",
    "# 建立模型\n",
    "model = tf.keras.models.Sequential([\n",
    "        layers.Flatten(input_shape=(28, 28)),\n",
    "        layers.Dense(128, activation='relu'),\n",
    "        layers.Dropout(0.2),\n",
    "        layers.Dense(10, activation='softmax')\n",
    "])\n",
    "\n",
    "# 設定優化器(optimizer)、損失函數(loss)、效能衡量指標(metrics)的類別\n",
    "loss_func = losses.SparseCategoricalCrossentropy()\n",
    "optimizer = optimizers.Adam()\n",
    "\n",
    "# 定義訓練及測試的效能衡量指標(Metrics)\n",
    "train_loss = metrics.Mean('train_loss', dtype=tf.float32)\n",
    "train_accuracy = metrics.SparseCategoricalAccuracy('train_accuracy')\n",
    "test_loss = metrics.Mean('test_loss', dtype=tf.float32)\n",
    "test_accuracy = metrics.SparseCategoricalAccuracy('test_accuracy')"
   ]
  },
  {
   "cell_type": "code",
   "execution_count": 2,
   "metadata": {},
   "outputs": [],
   "source": [
    "# 訓練階段\n",
    "def train_step(model, optimizer, x_train, y_train):\n",
    "    # 自動微分\n",
    "    with tf.GradientTape() as tape:\n",
    "        predictions = model(x_train, training=True)\n",
    "        loss = loss_func(y_train, predictions)\n",
    "    grads = tape.gradient(loss, model.trainable_variables)\n",
    "    optimizer.apply_gradients(zip(grads, model.trainable_variables))\n",
    "\n",
    "    # 計算訓練的效能衡量指標\n",
    "    train_loss(loss)\n",
    "    train_accuracy(y_train, predictions)\n",
    "\n",
    "    # 測試階段\n",
    "def test_step(model, x_test, y_test):\n",
    "    # 預測\n",
    "    predictions = model(x_test)\n",
    "    # 計算損失\n",
    "    loss = loss_func(y_test, predictions)\n",
    "\n",
    "    # 計算測試的效能衡量指標\n",
    "    test_loss(loss)\n",
    "    test_accuracy(y_test, predictions)"
   ]
  },
  {
   "cell_type": "code",
   "execution_count": 3,
   "metadata": {},
   "outputs": [],
   "source": [
    "import datetime\n",
    "\n",
    "current_time = datetime.datetime.now().strftime(\"%Y%m%d-%H%M%S\")\n",
    "# 指定訓練的 log 檔名\n",
    "train_log_dir = '.\\\\logs\\\\gradient_tape\\\\' + current_time + '\\\\train'\n",
    "# 指定測試的 log 檔名\n",
    "test_log_dir = '.\\\\logs\\\\gradient_tape\\\\' + current_time + '\\\\test'\n",
    "\n",
    "# 開啟檔案\n",
    "train_summary_writer = tf.summary.create_file_writer(train_log_dir)\n",
    "test_summary_writer = tf.summary.create_file_writer(test_log_dir)"
   ]
  },
  {
   "cell_type": "code",
   "execution_count": 4,
   "metadata": {},
   "outputs": [],
   "source": [
    "# 將訓練/測試資料轉成 Tensorflow Dataset\n",
    "train_dataset = tf.data.Dataset.from_tensor_slices((train_data_norm, train_label))\n",
    "test_dataset = tf.data.Dataset.from_tensor_slices((test_data_norm, test_label))\n",
    "\n",
    "# 每次從 60000 筆訓練資料隨機抽出 64 筆\n",
    "train_dataset = train_dataset.shuffle(60000).batch(64)\n",
    "# 每次從 10000 筆測試資料隨機抽出 64 筆\n",
    "test_dataset = test_dataset.batch(64)"
   ]
  },
  {
   "cell_type": "code",
   "execution_count": 5,
   "metadata": {
    "scrolled": true
   },
   "outputs": [
    {
     "name": "stdout",
     "output_type": "stream",
     "text": [
      "Epoch 1, Loss: 0.5450367331504822, Accuracy: 80.86166381835938, Test Loss: 0.4416830837726593, Test Accuracy: 83.97000122070312\n",
      "Epoch 2, Loss: 0.40724900364875793, Accuracy: 85.375, Test Loss: 0.38864943385124207, Test Accuracy: 86.13999938964844\n",
      "Epoch 3, Loss: 0.3664332330226898, Accuracy: 86.75, Test Loss: 0.38368651270866394, Test Accuracy: 86.08000183105469\n",
      "Epoch 4, Loss: 0.3457426130771637, Accuracy: 87.40333557128906, Test Loss: 0.35673806071281433, Test Accuracy: 87.0199966430664\n",
      "Epoch 5, Loss: 0.3292243182659149, Accuracy: 87.97333526611328, Test Loss: 0.3649834394454956, Test Accuracy: 86.93000030517578\n"
     ]
    }
   ],
   "source": [
    "EPOCHS = 5\n",
    "\n",
    "for epoch in range(EPOCHS):\n",
    "    for (x_train, y_train) in train_dataset:\n",
    "        train_step(model, optimizer, x_train, y_train)\n",
    "    with train_summary_writer.as_default():\n",
    "        tf.summary.scalar('loss', train_loss.result(), step=epoch)\n",
    "        tf.summary.scalar('accuracy', train_accuracy.result(), step=epoch)\n",
    "\n",
    "    for (x_test, y_test) in test_dataset:\n",
    "        test_step(model, x_test, y_test)\n",
    "    with test_summary_writer.as_default():\n",
    "        tf.summary.scalar('loss', test_loss.result(), step=epoch)\n",
    "        tf.summary.scalar('accuracy', test_accuracy.result(), step=epoch)\n",
    "    \n",
    "    template = 'Epoch {}, Loss: {}, Accuracy: {}, Test Loss: {}, Test Accuracy: {}'\n",
    "    print (template.format(epoch+1,train_loss.result(), \n",
    "                           train_accuracy.result()*100,\n",
    "                           test_loss.result(), \n",
    "                           test_accuracy.result()*100))\n",
    "\n",
    "    # 每一個 epoch 清除裡面的數值\n",
    "    train_loss.reset_states()\n",
    "    test_loss.reset_states()\n",
    "    train_accuracy.reset_states()\n",
    "    test_accuracy.reset_states()"
   ]
  },
  {
   "cell_type": "code",
   "execution_count": 6,
   "metadata": {
    "scrolled": true
   },
   "outputs": [
    {
     "data": {
      "text/plain": [
       "ERROR: Failed to launch TensorBoard (exited with -11)."
      ]
     },
     "metadata": {},
     "output_type": "display_data"
    }
   ],
   "source": [
    "# 載入 TensorBoard notebook extension，即可在 jupyter notebook 啟動 Tensorboard\n",
    "%load_ext tensorboard\n",
    "# 啟動 Tensorboard\n",
    "%tensorboard --logdir logs/gradient_tape"
   ]
  },
  {
   "cell_type": "code",
   "execution_count": null,
   "metadata": {},
   "outputs": [],
   "source": []
  }
 ],
 "metadata": {
  "kernelspec": {
   "display_name": "Python 3 (ipykernel)",
   "language": "python",
   "name": "python3"
  },
  "language_info": {
   "codemirror_mode": {
    "name": "ipython",
    "version": 3
   },
   "file_extension": ".py",
   "mimetype": "text/x-python",
   "name": "python",
   "nbconvert_exporter": "python",
   "pygments_lexer": "ipython3",
   "version": "3.10.6"
  }
 },
 "nbformat": 4,
 "nbformat_minor": 4
}
