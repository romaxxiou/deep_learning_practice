{
 "cells": [
  {
   "cell_type": "code",
   "execution_count": 1,
   "metadata": {
    "scrolled": true
   },
   "outputs": [
    {
     "name": "stdout",
     "output_type": "stream",
     "text": [
      "Epoch 1/10\n",
      "375/375 [==============================] - 5s 7ms/step - loss: 0.9905 - accuracy: 0.6573 - val_loss: 0.4736 - val_accuracy: 0.8312\n",
      "Epoch 2/10\n",
      "375/375 [==============================] - 1s 3ms/step - loss: 0.5304 - accuracy: 0.8150 - val_loss: 0.4269 - val_accuracy: 0.8473\n",
      "Epoch 3/10\n",
      "375/375 [==============================] - 1s 2ms/step - loss: 0.4684 - accuracy: 0.8353 - val_loss: 0.3990 - val_accuracy: 0.8555\n",
      "Epoch 4/10\n",
      "375/375 [==============================] - 1s 2ms/step - loss: 0.4343 - accuracy: 0.8458 - val_loss: 0.3800 - val_accuracy: 0.8619\n",
      "Epoch 5/10\n",
      "375/375 [==============================] - 1s 2ms/step - loss: 0.4196 - accuracy: 0.8477 - val_loss: 0.3710 - val_accuracy: 0.8638\n",
      "Epoch 6/10\n",
      "375/375 [==============================] - 1s 2ms/step - loss: 0.4035 - accuracy: 0.8580 - val_loss: 0.3619 - val_accuracy: 0.8663\n",
      "Epoch 7/10\n",
      "375/375 [==============================] - 1s 2ms/step - loss: 0.3913 - accuracy: 0.8581 - val_loss: 0.3613 - val_accuracy: 0.8683\n",
      "Epoch 8/10\n",
      "375/375 [==============================] - 1s 2ms/step - loss: 0.3886 - accuracy: 0.8598 - val_loss: 0.3544 - val_accuracy: 0.8690\n",
      "Epoch 9/10\n",
      "375/375 [==============================] - 1s 2ms/step - loss: 0.3757 - accuracy: 0.8638 - val_loss: 0.3477 - val_accuracy: 0.8734\n",
      "Epoch 10/10\n",
      "375/375 [==============================] - 1s 3ms/step - loss: 0.3707 - accuracy: 0.8658 - val_loss: 0.3425 - val_accuracy: 0.8753\n"
     ]
    }
   ],
   "source": [
    "import tensorflow as tf\n",
    "import os\n",
    "import datetime\n",
    "\n",
    "(train_image,train_label),(test_image,test_label)=\\\n",
    "    tf.keras.datasets.fashion_mnist.load_data()\n",
    "\n",
    "# 對資料集做一個前置處理, 將資料正規到 0~1 之間\n",
    "def preprocess(x, y):\n",
    "    x = tf.cast(x, dtype=tf.float32) / 255.\n",
    "    y = tf.cast(y, dtype=tf.int32)\n",
    "    return x,y\n",
    "\n",
    "# 建立模型\n",
    "def build_model():\n",
    "    model = tf.keras.models.Sequential()       # 線性疊加\n",
    "    # 改變平坦輸入\n",
    "    model.add(tf.keras.layers.Flatten(input_shape=(28, 28)))\n",
    "    model.add(tf.keras.layers.Dense(128, activation=tf.nn.relu))\n",
    "    model.add(tf.keras.layers.Dropout(0.5))   # 使用 Dropout 層\n",
    "    model.add(tf.keras.layers.Dense(10, activation=tf.nn.softmax))\n",
    "    return model\n",
    "\n",
    "model = build_model()\n",
    "\n",
    "# 編譯模型\n",
    "model.compile(optimizer= tf.keras.optimizers.Adam(),\n",
    "              loss='sparse_categorical_crossentropy',\n",
    "              metrics=['accuracy'])\n",
    "\n",
    "log_dir = '.\\\\logs\\\\tensorboard\\\\'+ datetime.datetime.now().strftime(\"%Y%m%d-%H%M%S\")\n",
    "# 設定回調函數\n",
    "tensorboard_callback = tf.keras.callbacks.TensorBoard(log_dir, histogram_freq=1)\n",
    "\n",
    "train_images, train_labels = preprocess(train_image, train_label)\n",
    "batchsz = 128  # 設定批次大小\n",
    "# 訓練模型\n",
    "history = model.fit(train_images, train_labels,epochs= 10,\n",
    "                    batch_size = batchsz,   # 設定批次訓練大小\n",
    "                    validation_split=0.2,\n",
    "                    callbacks=[tensorboard_callback])  \n",
    "\n"
   ]
  },
  {
   "cell_type": "code",
   "execution_count": null,
   "metadata": {},
   "outputs": [],
   "source": []
  }
 ],
 "metadata": {
  "kernelspec": {
   "display_name": "Python [conda env:Tensorflow2_GPU]",
   "language": "python",
   "name": "conda-env-Tensorflow2_GPU-py"
  },
  "language_info": {
   "codemirror_mode": {
    "name": "ipython",
    "version": 3
   },
   "file_extension": ".py",
   "mimetype": "text/x-python",
   "name": "python",
   "nbconvert_exporter": "python",
   "pygments_lexer": "ipython3",
   "version": "3.8.5"
  }
 },
 "nbformat": 4,
 "nbformat_minor": 4
}
