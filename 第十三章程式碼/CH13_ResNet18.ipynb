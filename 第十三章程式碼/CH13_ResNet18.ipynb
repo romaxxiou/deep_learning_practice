{
 "cells": [
  {
   "cell_type": "code",
   "execution_count": 1,
   "metadata": {},
   "outputs": [],
   "source": [
    "import tensorflow as tf\n",
    "from CH12_BasicBlock import resnet18\n",
    "from tensorflow.keras.datasets import cifar10\n",
    "# 載入 cifar10 資料集 50000張訓練資料 , 10000張測試資料, 每張大小為 32x32,3通道\n",
    "(train_Data, train_Label), (test_Data, test_Label) = cifar10.load_data()\n",
    "\n",
    "# 將多餘的維度刪除\n",
    "train_Label = tf.squeeze(train_Label, axis=1)\n",
    "test_Label = tf.squeeze(test_Label, axis=1)\n",
    "# 新增驗證集, 將訓練集資料的前 5000比當作驗證集\n",
    "validation_data, validation_label = train_Data[:5000],train_Label[:5000]\n",
    "Newtrain_Data,Newtrain_Label= train_Data[5000:],train_Label[5000:]\n",
    "\n",
    "train_ds = tf.data.Dataset.from_tensor_slices((Newtrain_Data, Newtrain_Label))\n",
    "test_ds = tf.data.Dataset.from_tensor_slices((test_Data, test_Label))\n",
    "validation_ds = tf.data.Dataset.from_tensor_slices((validation_data,\n",
    "                                                    validation_label))"
   ]
  },
  {
   "cell_type": "code",
   "execution_count": 2,
   "metadata": {},
   "outputs": [],
   "source": [
    "def preprocess(image, label):\n",
    "    image = tf.cast(image, dtype=tf.float32) / 255.\n",
    "    label = tf.cast(label, dtype=tf.int32)\n",
    "    return image,label\n",
    "\n",
    "batch_size = 256\n",
    "epoch = 30\n",
    "train_ds = train_ds.map(preprocess).shuffle(500).batch(batch_size=batch_size)\n",
    "# 驗證集與測試集資料不用打散\n",
    "test_ds = test_ds.map(preprocess).batch(batch_size=batch_size)\n",
    "validation_ds = validation_ds.map(preprocess).batch(batch_size=batch_size)"
   ]
  },
  {
   "cell_type": "code",
   "execution_count": 3,
   "metadata": {},
   "outputs": [
    {
     "name": "stdout",
     "output_type": "stream",
     "text": [
      "Epoch 1/30\n",
      "176/176 [==============================] - 76s 268ms/step - loss: 1.8445 - accuracy: 0.4071 - val_loss: 3.2864 - val_accuracy: 0.1332\n",
      "Epoch 2/30\n",
      "176/176 [==============================] - 12s 66ms/step - loss: 0.9331 - accuracy: 0.6667 - val_loss: 2.1021 - val_accuracy: 0.3672\n",
      "Epoch 3/30\n",
      "176/176 [==============================] - 12s 67ms/step - loss: 0.6796 - accuracy: 0.7615 - val_loss: 1.3683 - val_accuracy: 0.5812\n",
      "Epoch 4/30\n",
      "176/176 [==============================] - 12s 66ms/step - loss: 0.5269 - accuracy: 0.8184 - val_loss: 1.0771 - val_accuracy: 0.6814\n",
      "Epoch 5/30\n",
      "176/176 [==============================] - 12s 67ms/step - loss: 0.4109 - accuracy: 0.8554 - val_loss: 1.3288 - val_accuracy: 0.6324\n",
      "Epoch 6/30\n",
      "176/176 [==============================] - 12s 68ms/step - loss: 0.3213 - accuracy: 0.8883 - val_loss: 1.4851 - val_accuracy: 0.6446\n",
      "Epoch 7/30\n",
      "176/176 [==============================] - 11s 65ms/step - loss: 0.2437 - accuracy: 0.9134 - val_loss: 1.1531 - val_accuracy: 0.7188\n",
      "Epoch 8/30\n",
      "176/176 [==============================] - 12s 66ms/step - loss: 0.1823 - accuracy: 0.9361 - val_loss: 1.1293 - val_accuracy: 0.7386\n",
      "Epoch 9/30\n",
      "176/176 [==============================] - 12s 66ms/step - loss: 0.1317 - accuracy: 0.9534 - val_loss: 1.2625 - val_accuracy: 0.7268\n",
      "Epoch 10/30\n",
      "176/176 [==============================] - 12s 67ms/step - loss: 0.1016 - accuracy: 0.9644 - val_loss: 1.1394 - val_accuracy: 0.7526\n",
      "Epoch 11/30\n",
      "176/176 [==============================] - 12s 67ms/step - loss: 0.0838 - accuracy: 0.9704 - val_loss: 1.0005 - val_accuracy: 0.7826\n",
      "Epoch 12/30\n",
      "176/176 [==============================] - 12s 66ms/step - loss: 0.0644 - accuracy: 0.9774 - val_loss: 1.3843 - val_accuracy: 0.7284\n",
      "Epoch 13/30\n",
      "176/176 [==============================] - 11s 65ms/step - loss: 0.0550 - accuracy: 0.9798 - val_loss: 1.0312 - val_accuracy: 0.7906\n",
      "Epoch 14/30\n",
      "176/176 [==============================] - 12s 66ms/step - loss: 0.0442 - accuracy: 0.9850 - val_loss: 1.0375 - val_accuracy: 0.7950\n",
      "Epoch 15/30\n",
      "176/176 [==============================] - 12s 66ms/step - loss: 0.0341 - accuracy: 0.9881 - val_loss: 1.1507 - val_accuracy: 0.7724.0 - ETA: 1s -\n",
      "Epoch 16/30\n",
      "176/176 [==============================] - 12s 67ms/step - loss: 0.0497 - accuracy: 0.9826 - val_loss: 1.1512 - val_accuracy: 0.7736\n",
      "Epoch 17/30\n",
      "176/176 [==============================] - 12s 65ms/step - loss: 0.0339 - accuracy: 0.9886 - val_loss: 1.7520 - val_accuracy: 0.7000\n",
      "Epoch 18/30\n",
      "176/176 [==============================] - 12s 66ms/step - loss: 0.0427 - accuracy: 0.9857 - val_loss: 1.1925 - val_accuracy: 0.7646\n",
      "Epoch 19/30\n",
      "176/176 [==============================] - 12s 66ms/step - loss: 0.0369 - accuracy: 0.9866 - val_loss: 1.1009 - val_accuracy: 0.7740\n",
      "Epoch 20/30\n",
      "176/176 [==============================] - 12s 67ms/step - loss: 0.0280 - accuracy: 0.9903 - val_loss: 1.1523 - val_accuracy: 0.7770\n",
      "Epoch 21/30\n",
      "176/176 [==============================] - 12s 67ms/step - loss: 0.0302 - accuracy: 0.9890 - val_loss: 1.4116 - val_accuracy: 0.7526\n",
      "Epoch 22/30\n",
      "176/176 [==============================] - 12s 66ms/step - loss: 0.0394 - accuracy: 0.9859 - val_loss: 1.8899 - val_accuracy: 0.7026\n",
      "Epoch 23/30\n",
      "176/176 [==============================] - 12s 67ms/step - loss: 0.0353 - accuracy: 0.9879 - val_loss: 0.9871 - val_accuracy: 0.8104\n",
      "Epoch 24/30\n",
      "176/176 [==============================] - 12s 67ms/step - loss: 0.0178 - accuracy: 0.9937 - val_loss: 1.3590 - val_accuracy: 0.7558\n",
      "Epoch 25/30\n",
      "176/176 [==============================] - 12s 67ms/step - loss: 0.0227 - accuracy: 0.9926 - val_loss: 1.2195 - val_accuracy: 0.7848\n",
      "Epoch 26/30\n",
      "176/176 [==============================] - 12s 67ms/step - loss: 0.0345 - accuracy: 0.9887 - val_loss: 1.2176 - val_accuracy: 0.77926 - ac - ETA: 1s - loss: 0.0345 - accuracy - ETA: 1s\n",
      "Epoch 27/30\n",
      "176/176 [==============================] - 12s 66ms/step - loss: 0.0312 - accuracy: 0.9888 - val_loss: 1.2225 - val_accuracy: 0.7670\n",
      "Epoch 28/30\n",
      "176/176 [==============================] - 12s 69ms/step - loss: 0.0219 - accuracy: 0.9922 - val_loss: 1.3041 - val_accuracy: 0.7576\n",
      "Epoch 29/30\n",
      "176/176 [==============================] - 12s 67ms/step - loss: 0.0242 - accuracy: 0.9918 - val_loss: 0.9640 - val_accuracy: 0.8170\n",
      "Epoch 30/30\n",
      "176/176 [==============================] - 12s 67ms/step - loss: 0.0169 - accuracy: 0.9941 - val_loss: 1.2025 - val_accuracy: 0.7886\n"
     ]
    }
   ],
   "source": [
    "model = resnet18()\n",
    "model.build(input_shape=(None, 32, 32, 3))\n",
    "\n",
    "model.compile(optimizer= 'adam',loss='sparse_categorical_crossentropy',\n",
    "              metrics=['accuracy'])\n",
    "History = model.fit(train_ds,epochs=epoch,validation_data=validation_ds,validation_freq=1)"
   ]
  },
  {
   "cell_type": "code",
   "execution_count": null,
   "metadata": {},
   "outputs": [],
   "source": []
  }
 ],
 "metadata": {
  "kernelspec": {
   "display_name": "Python [conda env:Tensorflow2_GPU]",
   "language": "python",
   "name": "conda-env-Tensorflow2_GPU-py"
  },
  "language_info": {
   "codemirror_mode": {
    "name": "ipython",
    "version": 3
   },
   "file_extension": ".py",
   "mimetype": "text/x-python",
   "name": "python",
   "nbconvert_exporter": "python",
   "pygments_lexer": "ipython3",
   "version": "3.8.5"
  }
 },
 "nbformat": 4,
 "nbformat_minor": 4
}
