{
 "cells": [
  {
   "cell_type": "code",
   "execution_count": 1,
   "metadata": {},
   "outputs": [
    {
     "name": "stdout",
     "output_type": "stream",
     "text": [
      "Found 25000 images belonging to 2 classes.\n",
      "Found 1000 images belonging to 2 classes.\n"
     ]
    }
   ],
   "source": [
    "from tensorflow.keras.preprocessing.image import ImageDataGenerator\n",
    "# 數據讀取\n",
    "TrainDataGenerator = ImageDataGenerator()\n",
    "traindata = TrainDataGenerator.flow_from_directory(\n",
    "                    directory=\"Cats&Dogs/train\",target_size=(224,224))\n",
    "TestDataGenerator = ImageDataGenerator()\n",
    "testdata = TestDataGenerator.flow_from_directory(\n",
    "                    directory=\"Cats&Dogs/test\", target_size=(224,224))"
   ]
  },
  {
   "cell_type": "code",
   "execution_count": 2,
   "metadata": {
    "scrolled": true,
    "tags": []
   },
   "outputs": [
    {
     "name": "stdout",
     "output_type": "stream",
     "text": [
      "Metal device set to: Apple M1\n"
     ]
    },
    {
     "name": "stderr",
     "output_type": "stream",
     "text": [
      "2022-11-30 18:22:52.058787: I tensorflow/core/common_runtime/pluggable_device/pluggable_device_factory.cc:305] Could not identify NUMA node of platform GPU ID 0, defaulting to 0. Your kernel may not have been built with NUMA support.\n",
      "2022-11-30 18:22:52.059556: I tensorflow/core/common_runtime/pluggable_device/pluggable_device_factory.cc:271] Created TensorFlow device (/job:localhost/replica:0/task:0/device:GPU:0 with 0 MB memory) -> physical PluggableDevice (device: 0, name: METAL, pci bus id: <undefined>)\n"
     ]
    },
    {
     "name": "stdout",
     "output_type": "stream",
     "text": [
      "Model: \"sequential\"\n",
      "_________________________________________________________________\n",
      " Layer (type)                Output Shape              Param #   \n",
      "=================================================================\n",
      " conv2d (Conv2D)             (None, 224, 224, 64)      1792      \n",
      "                                                                 \n",
      " conv2d_1 (Conv2D)           (None, 224, 224, 64)      36928     \n",
      "                                                                 \n",
      " max_pooling2d (MaxPooling2D  (None, 112, 112, 64)     0         \n",
      " )                                                               \n",
      "                                                                 \n",
      " conv2d_2 (Conv2D)           (None, 112, 112, 128)     73856     \n",
      "                                                                 \n",
      " conv2d_3 (Conv2D)           (None, 112, 112, 128)     147584    \n",
      "                                                                 \n",
      " max_pooling2d_1 (MaxPooling  (None, 56, 56, 128)      0         \n",
      " 2D)                                                             \n",
      "                                                                 \n",
      " conv2d_4 (Conv2D)           (None, 56, 56, 256)       295168    \n",
      "                                                                 \n",
      " conv2d_5 (Conv2D)           (None, 56, 56, 256)       590080    \n",
      "                                                                 \n",
      " conv2d_6 (Conv2D)           (None, 56, 56, 256)       590080    \n",
      "                                                                 \n",
      " max_pooling2d_2 (MaxPooling  (None, 28, 28, 256)      0         \n",
      " 2D)                                                             \n",
      "                                                                 \n",
      " conv2d_7 (Conv2D)           (None, 28, 28, 512)       1180160   \n",
      "                                                                 \n",
      " conv2d_8 (Conv2D)           (None, 28, 28, 512)       2359808   \n",
      "                                                                 \n",
      " conv2d_9 (Conv2D)           (None, 28, 28, 512)       2359808   \n",
      "                                                                 \n",
      " max_pooling2d_3 (MaxPooling  (None, 14, 14, 512)      0         \n",
      " 2D)                                                             \n",
      "                                                                 \n",
      " conv2d_10 (Conv2D)          (None, 14, 14, 512)       2359808   \n",
      "                                                                 \n",
      " conv2d_11 (Conv2D)          (None, 14, 14, 512)       2359808   \n",
      "                                                                 \n",
      " conv2d_12 (Conv2D)          (None, 14, 14, 512)       2359808   \n",
      "                                                                 \n",
      " max_pooling2d_4 (MaxPooling  (None, 7, 7, 512)        0         \n",
      " 2D)                                                             \n",
      "                                                                 \n",
      " flatten (Flatten)           (None, 25088)             0         \n",
      "                                                                 \n",
      " dense (Dense)               (None, 4096)              102764544 \n",
      "                                                                 \n",
      " dense_1 (Dense)             (None, 4096)              16781312  \n",
      "                                                                 \n",
      " dense_2 (Dense)             (None, 2)                 8194      \n",
      "                                                                 \n",
      "=================================================================\n",
      "Total params: 134,268,738\n",
      "Trainable params: 134,268,738\n",
      "Non-trainable params: 0\n",
      "_________________________________________________________________\n"
     ]
    }
   ],
   "source": [
    "from tensorflow.keras.models import Sequential\n",
    "from tensorflow.keras.layers import Dense, Conv2D, MaxPool2D , Flatten\n",
    "model = Sequential([\n",
    "    #　第一組 :兩個 3*3*64 卷積核 + 一個最大池化層\n",
    "    Conv2D(input_shape=(224,224,3),filters=64,kernel_size=(3,3),padding=\"same\",\n",
    "           activation=\"relu\"),\n",
    "    Conv2D(filters=64,kernel_size=(3,3),padding=\"same\", activation=\"relu\"),\n",
    "    MaxPool2D(pool_size=(2,2),strides=(2,2)),\n",
    "    #　第二組 : 兩個3*3*128卷積核 + 一個最大池化層\n",
    "    Conv2D(filters=128, kernel_size=(3,3), padding=\"same\", activation=\"relu\"),\n",
    "    Conv2D(filters=128, kernel_size=(3,3), padding=\"same\", activation=\"relu\"),\n",
    "    MaxPool2D(pool_size=(2,2),strides=(2,2)),\n",
    "    #　第三組 : 三個3*3*56卷積核 + 一個最大池化層\n",
    "    Conv2D(filters=256, kernel_size=(3,3), padding=\"same\", activation=\"relu\"),\n",
    "    Conv2D(filters=256, kernel_size=(3,3), padding=\"same\", activation=\"relu\"),\n",
    "    Conv2D(filters=256, kernel_size=(3,3), padding=\"same\", activation=\"relu\"),\n",
    "    MaxPool2D(pool_size=(2,2),strides=(2,2)),\n",
    "    #　第四組 : 三個3*3*512卷積核 + 一個最大池化層\n",
    "    Conv2D(filters=512, kernel_size=(3,3), padding=\"same\", activation=\"relu\"),\n",
    "    Conv2D(filters=512, kernel_size=(3,3), padding=\"same\", activation=\"relu\"),\n",
    "    Conv2D(filters=512, kernel_size=(3,3), padding=\"same\", activation=\"relu\"),\n",
    "    MaxPool2D(pool_size=(2,2),strides=(2,2)),\n",
    "    #　第五組 : 三個3*3*512卷積核 + 一個最大池化層\n",
    "    Conv2D(filters=512, kernel_size=(3,3), padding=\"same\", activation=\"relu\"),\n",
    "    Conv2D(filters=512, kernel_size=(3,3), padding=\"same\", activation=\"relu\"),\n",
    "    Conv2D(filters=512, kernel_size=(3,3), padding=\"same\", activation=\"relu\"),\n",
    "    MaxPool2D(pool_size=(2,2),strides=(2,2)),\n",
    "    # 三個全連接層Dense，最後一層用於預測分類。\n",
    "    Flatten(),\n",
    "    Dense(units=4096,activation=\"relu\"),\n",
    "    Dense(units=4096,activation=\"relu\"),\n",
    "    Dense(units=2, activation=\"softmax\")\n",
    "])\n",
    "model.summary()"
   ]
  },
  {
   "cell_type": "code",
   "execution_count": 3,
   "metadata": {},
   "outputs": [
    {
     "name": "stderr",
     "output_type": "stream",
     "text": [
      "/Users/rmx/opt/miniconda3/envs/tf/lib/python3.9/site-packages/keras/optimizers/optimizer_v2/adam.py:110: UserWarning: The `lr` argument is deprecated, use `learning_rate` instead.\n",
      "  super(Adam, self).__init__(name, **kwargs)\n"
     ]
    }
   ],
   "source": [
    "# 編譯模型, 定義模型優化器， 使用分類交叉熵損失\n",
    "from tensorflow.keras.optimizers import Adam\n",
    "import tensorflow.keras\n",
    "model.compile(optimizer=Adam(lr=0.00001),\n",
    "              loss = tensorflow.keras.losses.categorical_crossentropy,\n",
    "              metrics=['accuracy'])"
   ]
  },
  {
   "cell_type": "code",
   "execution_count": 4,
   "metadata": {},
   "outputs": [],
   "source": [
    "# 設定監控方法與條件\n",
    "from tensorflow.keras.callbacks import ModelCheckpoint, EarlyStopping\n",
    "# 模型儲存名稱為 vgg16.h5, 監控的評估參數為 val_accuracy\n",
    "checkpoint = ModelCheckpoint(\"vgg16.h5\", monitor='val_accuracy', verbose=1,\n",
    "                          save_best_only=True,save_weights_only=False,\n",
    "                          mode='auto', save_freq=1)\n",
    "earlystop = EarlyStopping(monitor='val_accuracy', min_delta=0,\n",
    "                          patience=20, verbose=1, mode='auto')"
   ]
  },
  {
   "cell_type": "code",
   "execution_count": null,
   "metadata": {
    "scrolled": true,
    "tags": []
   },
   "outputs": [
    {
     "name": "stderr",
     "output_type": "stream",
     "text": [
      "/var/folders/2r/yxxkwcb90qzdnjd0n2h423v80000gn/T/ipykernel_3576/4173182697.py:2: UserWarning: `Model.fit_generator` is deprecated and will be removed in a future version. Please use `Model.fit`, which supports generators.\n",
      "  history = model.fit_generator(steps_per_epoch=100,generator=traindata,\n"
     ]
    },
    {
     "name": "stdout",
     "output_type": "stream",
     "text": [
      "Epoch 1/50\n"
     ]
    },
    {
     "name": "stderr",
     "output_type": "stream",
     "text": [
      "2022-11-30 18:22:53.183753: W tensorflow/core/platform/profile_utils/cpu_utils.cc:128] Failed to get CPU frequency: 0 Hz\n",
      "2022-11-30 18:22:53.966149: I tensorflow/core/grappler/optimizers/custom_graph_optimizer_registry.cc:113] Plugin optimizer for device_type GPU is enabled.\n"
     ]
    },
    {
     "name": "stdout",
     "output_type": "stream",
     "text": [
      "WARNING:tensorflow:Can save best model only with val_accuracy available, skipping.\n",
      "  1/100 [..............................] - ETA: 11:03 - loss: 0.8681 - accuracy: 0.3750WARNING:tensorflow:Can save best model only with val_accuracy available, skipping.\n",
      "  2/100 [..............................] - ETA: 8:16 - loss: 0.9147 - accuracy: 0.4375 WARNING:tensorflow:Can save best model only with val_accuracy available, skipping.\n",
      "  3/100 [..............................] - ETA: 8:07 - loss: 0.8451 - accuracy: 0.5000WARNING:tensorflow:Can save best model only with val_accuracy available, skipping.\n",
      "  4/100 [>.............................] - ETA: 7:57 - loss: 0.8185 - accuracy: 0.5078WARNING:tensorflow:Can save best model only with val_accuracy available, skipping.\n",
      "  5/100 [>.............................] - ETA: 8:05 - loss: 0.7923 - accuracy: 0.5125WARNING:tensorflow:Can save best model only with val_accuracy available, skipping.\n",
      "  6/100 [>.............................] - ETA: 8:23 - loss: 0.7748 - accuracy: 0.5156WARNING:tensorflow:Can save best model only with val_accuracy available, skipping.\n",
      "  7/100 [=>............................] - ETA: 8:16 - loss: 0.7664 - accuracy: 0.5134WARNING:tensorflow:Can save best model only with val_accuracy available, skipping.\n",
      "  8/100 [=>............................] - ETA: 8:10 - loss: 0.7558 - accuracy: 0.5156WARNING:tensorflow:Can save best model only with val_accuracy available, skipping.\n",
      "  9/100 [=>............................] - ETA: 8:14 - loss: 0.7577 - accuracy: 0.5000WARNING:tensorflow:Can save best model only with val_accuracy available, skipping.\n",
      " 10/100 [==>...........................] - ETA: 8:17 - loss: 0.7485 - accuracy: 0.5094WARNING:tensorflow:Can save best model only with val_accuracy available, skipping.\n",
      " 11/100 [==>...........................] - ETA: 8:17 - loss: 0.7460 - accuracy: 0.4972WARNING:tensorflow:Can save best model only with val_accuracy available, skipping.\n",
      " 12/100 [==>...........................] - ETA: 8:15 - loss: 0.7410 - accuracy: 0.4974WARNING:tensorflow:Can save best model only with val_accuracy available, skipping.\n",
      " 13/100 [==>...........................] - ETA: 8:09 - loss: 0.7384 - accuracy: 0.4952WARNING:tensorflow:Can save best model only with val_accuracy available, skipping.\n",
      " 14/100 [===>..........................] - ETA: 8:00 - loss: 0.7331 - accuracy: 0.5067WARNING:tensorflow:Can save best model only with val_accuracy available, skipping.\n",
      " 15/100 [===>..........................] - ETA: 7:59 - loss: 0.7337 - accuracy: 0.4958WARNING:tensorflow:Can save best model only with val_accuracy available, skipping.\n",
      " 16/100 [===>..........................] - ETA: 7:52 - loss: 0.7305 - accuracy: 0.4980WARNING:tensorflow:Can save best model only with val_accuracy available, skipping.\n",
      " 17/100 [====>.........................] - ETA: 35:55 - loss: 0.7268 - accuracy: 0.5037WARNING:tensorflow:Can save best model only with val_accuracy available, skipping.\n",
      " 18/100 [====>.........................] - ETA: 1:59:21 - loss: 0.7238 - accuracy: 0.5087WARNING:tensorflow:Can save best model only with val_accuracy available, skipping.\n",
      " 19/100 [====>.........................] - ETA: 3:01:43 - loss: 0.7221 - accuracy: 0.5049WARNING:tensorflow:Can save best model only with val_accuracy available, skipping.\n",
      " 20/100 [=====>........................] - ETA: 2:50:24 - loss: 0.7210 - accuracy: 0.5016WARNING:tensorflow:Can save best model only with val_accuracy available, skipping.\n",
      " 21/100 [=====>........................] - ETA: 2:48:39 - loss: 0.7194 - accuracy: 0.5060WARNING:tensorflow:Can save best model only with val_accuracy available, skipping.\n",
      " 22/100 [=====>........................] - ETA: 3:23:00 - loss: 0.7168 - accuracy: 0.5085WARNING:tensorflow:Can save best model only with val_accuracy available, skipping.\n",
      " 23/100 [=====>........................] - ETA: 3:11:35 - loss: 0.7143 - accuracy: 0.5136WARNING:tensorflow:Can save best model only with val_accuracy available, skipping.\n",
      " 24/100 [======>.......................] - ETA: 3:03:35 - loss: 0.7162 - accuracy: 0.5065WARNING:tensorflow:Can save best model only with val_accuracy available, skipping.\n",
      " 25/100 [======>.......................] - ETA: 2:53:52 - loss: 0.7151 - accuracy: 0.5075WARNING:tensorflow:Can save best model only with val_accuracy available, skipping.\n",
      " 26/100 [======>.......................] - ETA: 2:58:34 - loss: 0.7137 - accuracy: 0.5072WARNING:tensorflow:Can save best model only with val_accuracy available, skipping.\n",
      " 27/100 [=======>......................] - ETA: 2:49:36 - loss: 0.7115 - accuracy: 0.5127WARNING:tensorflow:Can save best model only with val_accuracy available, skipping.\n",
      " 28/100 [=======>......................] - ETA: 2:47:23 - loss: 0.7116 - accuracy: 0.5078WARNING:tensorflow:Can save best model only with val_accuracy available, skipping.\n",
      " 29/100 [=======>......................] - ETA: 2:39:23 - loss: 0.7098 - accuracy: 0.5129"
     ]
    }
   ],
   "source": [
    "# 訓練模型並呼叫回調函數\n",
    "history = model.fit_generator(steps_per_epoch=100,generator=traindata,\n",
    "                              validation_data= testdata,\n",
    "                              validation_steps=10,epochs=50,\n",
    "                              callbacks=[checkpoint,earlystop])"
   ]
  },
  {
   "cell_type": "code",
   "execution_count": null,
   "metadata": {},
   "outputs": [],
   "source": [
    "import matplotlib.pyplot as plt\n",
    "plt.plot(history.history[\"accuracy\"])\n",
    "plt.plot(history.history['val_accuracy'])\n",
    "plt.plot(history.history['loss'])\n",
    "plt.plot(history.history['val_loss'])\n",
    "plt.title(\"Model Accuracy\")\n",
    "plt.ylabel(\"Accuracy\")\n",
    "plt.xlabel(\"Epoch\")`\n",
    "plt.legend([\"Accuracy\",\"Validation Accuracy\",\"loss\",\"Validation Loss\"])\n",
    "plt.show(block=True)\n",
    "\n",
    "print(history.history.keys())"
   ]
  },
  {
   "cell_type": "code",
   "execution_count": null,
   "metadata": {},
   "outputs": [],
   "source": []
  }
 ],
 "metadata": {
  "kernelspec": {
   "display_name": "Python 3 (ipykernel)",
   "language": "python",
   "name": "python3"
  },
  "language_info": {
   "codemirror_mode": {
    "name": "ipython",
    "version": 3
   },
   "file_extension": ".py",
   "mimetype": "text/x-python",
   "name": "python",
   "nbconvert_exporter": "python",
   "pygments_lexer": "ipython3",
   "version": "3.9.15"
  }
 },
 "nbformat": 4,
 "nbformat_minor": 4
}
