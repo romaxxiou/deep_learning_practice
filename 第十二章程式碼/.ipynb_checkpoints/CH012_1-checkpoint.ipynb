{
 "cells": [
  {
   "cell_type": "code",
   "execution_count": 1,
   "metadata": {},
   "outputs": [],
   "source": [
    "import numpy as np\n",
    "import tensorflow as tf\n",
    "from tensorflow.keras.datasets import mnist\n",
    "from tensorflow.keras.models import Sequential\n",
    "from tensorflow.keras.layers import Dense, Conv2D, MaxPooling2D, Flatten\n",
    "import matplotlib.pyplot as plt\n",
    "# 將資料做一個歸一化的動作\n",
    "def preprocess(x, y):\n",
    "    x = tf.cast(x, dtype=tf.float32) / 255.\n",
    "    x = tf.reshape(x,[28,28,1])\n",
    "    y = tf.cast(y, dtype=tf.int32)\n",
    "    return x, y\n",
    "\n",
    "batchs = 32\n",
    "\n",
    "# 載入mnist 資料集 60000張訓練資料 , 10000張測試資料, 每張大小為 28x28\n",
    "(train_Data, train_Label), (test_Data, test_Label) = mnist.load_data()"
   ]
  },
  {
   "cell_type": "code",
   "execution_count": 2,
   "metadata": {},
   "outputs": [],
   "source": [
    "# 將訓練集資料打散\n",
    "db = tf.data.Dataset.from_tensor_slices((train_Data, train_Label))\n",
    "db = db.map(preprocess).shuffle(10000).batch(batchs)\n",
    "\n",
    "db_test = tf.data.Dataset.from_tensor_slices((test_Data, test_Label))\n",
    "db_test = db_test.map(preprocess).batch(batchs)"
   ]
  },
  {
   "cell_type": "code",
   "execution_count": 3,
   "metadata": {},
   "outputs": [],
   "source": [
    "LeNet5Model = Sequential([\n",
    "    # 第一個卷積層，6個 5x5 卷積核,激勵函數為 relu\n",
    "    Conv2D(6,kernel_size=5,strides=1,padding='same',activation='relu'),\n",
    "    # 池化層大小 2x2, 步長 2\n",
    "    MaxPooling2D(pool_size=2,strides=2),\n",
    "    # 第二個卷積層，16個 5x5 卷積核, 步長為 1\n",
    "    Conv2D(16,kernel_size=5,strides=1,padding='same',activation='relu'),\n",
    "    # 池化層大小 2x2, 步長 2\n",
    "    MaxPooling2D(pool_size=2,strides=2),\n",
    "    # 打平層，方便全連接層處理\n",
    "    Flatten(),\n",
    "    # 全連接層，120 個節點, 激勵函數為 relu\n",
    "    Dense(120, activation='relu'),\n",
    "    # 全連接層，84 個節點, 激勵函數為 relu\n",
    "    Dense(84, activation='relu'),\n",
    "    # 全連接層(輸出)，10 個節點, 最後以機率方式呈現\n",
    "    Dense(10,activation='softmax')\n",
    "])"
   ]
  },
  {
   "cell_type": "code",
   "execution_count": 4,
   "metadata": {},
   "outputs": [
    {
     "name": "stdout",
     "output_type": "stream",
     "text": [
      "Model: \"sequential\"\n",
      "_________________________________________________________________\n",
      "Layer (type)                 Output Shape              Param #   \n",
      "=================================================================\n",
      "conv2d (Conv2D)              (None, 28, 28, 6)         156       \n",
      "_________________________________________________________________\n",
      "max_pooling2d (MaxPooling2D) (None, 14, 14, 6)         0         \n",
      "_________________________________________________________________\n",
      "conv2d_1 (Conv2D)            (None, 14, 14, 16)        2416      \n",
      "_________________________________________________________________\n",
      "max_pooling2d_1 (MaxPooling2 (None, 7, 7, 16)          0         \n",
      "_________________________________________________________________\n",
      "flatten (Flatten)            (None, 784)               0         \n",
      "_________________________________________________________________\n",
      "dense (Dense)                (None, 120)               94200     \n",
      "_________________________________________________________________\n",
      "dense_1 (Dense)              (None, 84)                10164     \n",
      "_________________________________________________________________\n",
      "dense_2 (Dense)              (None, 10)                850       \n",
      "=================================================================\n",
      "Total params: 107,786\n",
      "Trainable params: 107,786\n",
      "Non-trainable params: 0\n",
      "_________________________________________________________________\n",
      "None\n"
     ]
    }
   ],
   "source": [
    "# 指定輸入數據維度\n",
    "LeNet5Model.build(input_shape=(None, 28, 28, 1))\n",
    "# 顯示參數量\n",
    "print(LeNet5Model.summary())"
   ]
  },
  {
   "cell_type": "code",
   "execution_count": 5,
   "metadata": {},
   "outputs": [],
   "source": [
    "# 設定優化器\n",
    "optimizer = tf.keras.optimizers.SGD(learning_rate=0.01)\n",
    "# 配置模型  # label 為數字編碼\n",
    "LeNet5Model.compile(optimizer=optimizer,\n",
    "                    loss='sparse_categorical_crossentropy',  # 指定損失函數\n",
    "                    metrics=['accuracy'])"
   ]
  },
  {
   "cell_type": "code",
   "execution_count": 6,
   "metadata": {},
   "outputs": [
    {
     "name": "stdout",
     "output_type": "stream",
     "text": [
      "Epoch 1/5\n",
      "1875/1875 [==============================] - 25s 7ms/step - loss: 0.9342 - accuracy: 0.6957 - val_loss: 0.1566 - val_accuracy: 0.9519\n",
      "Epoch 2/5\n",
      "1875/1875 [==============================] - 8s 4ms/step - loss: 0.1530 - accuracy: 0.9541 - val_loss: 0.0915 - val_accuracy: 0.9704\n",
      "Epoch 3/5\n",
      "1875/1875 [==============================] - 7s 4ms/step - loss: 0.1002 - accuracy: 0.9693 - val_loss: 0.0751 - val_accuracy: 0.9759\n",
      "Epoch 4/5\n",
      "1875/1875 [==============================] - 7s 4ms/step - loss: 0.0775 - accuracy: 0.9756 - val_loss: 0.0633 - val_accuracy: 0.9788\n",
      "Epoch 5/5\n",
      "1875/1875 [==============================] - 8s 4ms/step - loss: 0.0666 - accuracy: 0.9791 - val_loss: 0.0599 - val_accuracy: 0.9806\n"
     ]
    }
   ],
   "source": [
    "# 訓練模型\n",
    "hist = LeNet5Model.fit(db,epochs=5, validation_data=db_test)"
   ]
  },
  {
   "cell_type": "code",
   "execution_count": null,
   "metadata": {},
   "outputs": [],
   "source": []
  }
 ],
 "metadata": {
  "kernelspec": {
   "display_name": "Python [conda env:Tensorflow2_GPU]",
   "language": "python",
   "name": "conda-env-Tensorflow2_GPU-py"
  },
  "language_info": {
   "codemirror_mode": {
    "name": "ipython",
    "version": 3
   },
   "file_extension": ".py",
   "mimetype": "text/x-python",
   "name": "python",
   "nbconvert_exporter": "python",
   "pygments_lexer": "ipython3",
   "version": "3.8.5"
  }
 },
 "nbformat": 4,
 "nbformat_minor": 4
}
