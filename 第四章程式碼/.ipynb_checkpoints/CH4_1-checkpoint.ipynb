{
 "cells": [
  {
   "cell_type": "code",
   "execution_count": 12,
   "metadata": {},
   "outputs": [
    {
     "name": "stdout",
     "output_type": "stream",
     "text": [
      "(3, 10)\n"
     ]
    }
   ],
   "source": [
    "import tensorflow as tf\n",
    "x = tf.random.normal([3,784])\n",
    "# 隱藏層1權重與偏移值設定\n",
    "w1 = tf.Variable(tf.random.truncated_normal([784,256],stddev=0.1))\n",
    "b1 = tf.Variable(tf.zeros([256]))\n",
    "# 隱藏層2權重與偏移值設定\n",
    "w2 = tf.Variable(tf.random.truncated_normal([256,128],stddev=0.1))\n",
    "b2 = tf.Variable(tf.zeros([128]))\n",
    "# 隱藏層3權重與偏移值設定\n",
    "w3 = tf.Variable(tf.random.truncated_normal([128,64],stddev=0.1))\n",
    "b3 = tf.Variable(tf.zeros([64]))\n",
    "# 輸出層權重與偏移值設定\n",
    "w4 = tf.Variable(tf.random.truncated_normal([64,10],stddev=0.1))\n",
    "b4 = tf.Variable(tf.zeros([10]))\n",
    "# 前向計算\n",
    "o1 = x@w1 + b1\n",
    "s1 = tf.nn.sigmoid(o1)\n",
    "o2 = s1@w2 + b2\n",
    "s2 = tf.nn.sigmoid(o2)\n",
    "o3 = s2@w3 + b3\n",
    "s3 = tf.nn.sigmoid(o3)\n",
    "o4 = s3@w4 + b4\n",
    "print(o4.shape)"
   ]
  },
  {
   "cell_type": "code",
   "execution_count": null,
   "metadata": {},
   "outputs": [],
   "source": []
  }
 ],
 "metadata": {
  "kernelspec": {
   "display_name": "Python [conda env:Anaconda3-Tensorflow2_evn]",
   "language": "python",
   "name": "conda-env-Anaconda3-Tensorflow2_evn-py"
  },
  "language_info": {
   "codemirror_mode": {
    "name": "ipython",
    "version": 3
   },
   "file_extension": ".py",
   "mimetype": "text/x-python",
   "name": "python",
   "nbconvert_exporter": "python",
   "pygments_lexer": "ipython3",
   "version": "3.8.13"
  }
 },
 "nbformat": 4,
 "nbformat_minor": 4
}
