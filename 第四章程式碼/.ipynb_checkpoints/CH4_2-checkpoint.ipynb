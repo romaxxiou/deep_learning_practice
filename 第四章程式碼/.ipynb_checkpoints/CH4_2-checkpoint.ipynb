{
 "cells": [
  {
   "cell_type": "code",
   "execution_count": 3,
   "metadata": {},
   "outputs": [
    {
     "name": "stdout",
     "output_type": "stream",
     "text": [
      "(3, 10)\n"
     ]
    }
   ],
   "source": [
    "import tensorflow as tf\n",
    "from tensorflow.keras import layers  # 導入 layer 類\n",
    "\n",
    "fc1 = layers.Dense(256,activation = tf.sigmoid)  # 隱藏層 1\n",
    "fc2 = layers.Dense(128,activation = tf.sigmoid)  # 隱藏層 2\n",
    "fc3 = layers.Dense(64,activation = tf.sigmoid)  # 隱藏層 3\n",
    "fc4 = layers.Dense(10,activation = None)  # 輸出層\n",
    "\n",
    "X = tf.random.normal([3,784])\n",
    "h1 = fc1(X)\n",
    "h2 = fc2(h1)\n",
    "h3 = fc3(h2)\n",
    "out = fc4(h3)\n",
    "print(out.shape)"
   ]
  },
  {
   "cell_type": "code",
   "execution_count": null,
   "metadata": {},
   "outputs": [],
   "source": []
  }
 ],
 "metadata": {
  "kernelspec": {
   "display_name": "Python [conda env:Anaconda3-Tensorflow2_evn]",
   "language": "python",
   "name": "conda-env-Anaconda3-Tensorflow2_evn-py"
  },
  "language_info": {
   "codemirror_mode": {
    "name": "ipython",
    "version": 3
   },
   "file_extension": ".py",
   "mimetype": "text/x-python",
   "name": "python",
   "nbconvert_exporter": "python",
   "pygments_lexer": "ipython3",
   "version": "3.8.13"
  }
 },
 "nbformat": 4,
 "nbformat_minor": 4
}
