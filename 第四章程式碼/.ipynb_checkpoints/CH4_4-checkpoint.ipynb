{
 "cells": [
  {
   "cell_type": "code",
   "execution_count": 3,
   "metadata": {},
   "outputs": [
    {
     "name": "stdout",
     "output_type": "stream",
     "text": [
      "(3, 10)\n",
      "Model: \"sequential_2\"\n",
      "_________________________________________________________________\n",
      "Layer (type)                 Output Shape              Param #   \n",
      "=================================================================\n",
      "dense_8 (Dense)              (3, 256)                  200960    \n",
      "_________________________________________________________________\n",
      "dense_9 (Dense)              (3, 128)                  32896     \n",
      "_________________________________________________________________\n",
      "dense_10 (Dense)             (3, 64)                   8256      \n",
      "_________________________________________________________________\n",
      "dense_11 (Dense)             (3, 10)                   650       \n",
      "=================================================================\n",
      "Total params: 242,762\n",
      "Trainable params: 242,762\n",
      "Non-trainable params: 0\n",
      "_________________________________________________________________\n",
      "None\n"
     ]
    }
   ],
   "source": [
    "import tensorflow as tf\n",
    "from tensorflow.keras import layers, Sequential  # 導入 layer 類\n",
    "\n",
    "x = tf.random.normal([3,784])\n",
    "model = Sequential([])    # 創建一個空的網路容器\n",
    "model.add(layers.Dense(256,activation=tf.nn.relu))  # 加入隱藏層 1\n",
    "model.add(layers.Dense(128,activation=tf.nn.relu))  # 加入隱藏層 2\n",
    "model.add(layers.Dense(64,activation=tf.nn.relu))  # 加入隱藏層 3\n",
    "model.add(layers.Dense(10,activation=None))  # 加入輸入層\n",
    "\n",
    "out = model(x)\n",
    "print(out.shape)\n",
    "print(model.summary())"
   ]
  }
 ],
 "metadata": {
  "kernelspec": {
   "display_name": "Python [conda env:Tensorflow2_GPU]",
   "language": "python",
   "name": "conda-env-Tensorflow2_GPU-py"
  },
  "language_info": {
   "codemirror_mode": {
    "name": "ipython",
    "version": 3
   },
   "file_extension": ".py",
   "mimetype": "text/x-python",
   "name": "python",
   "nbconvert_exporter": "python",
   "pygments_lexer": "ipython3",
   "version": "3.8.5"
  }
 },
 "nbformat": 4,
 "nbformat_minor": 4
}
